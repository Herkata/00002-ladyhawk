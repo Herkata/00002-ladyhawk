{
  "cells": [
    {
      "cell_type": "markdown",
      "metadata": {
        "id": "view-in-github",
        "colab_type": "text"
      },
      "source": [
        "<a href=\"https://colab.research.google.com/github/Herkata/00002-ladyhawk/blob/master/credit_risk_ML.ipynb\" target=\"_parent\"><img src=\"https://colab.research.google.com/assets/colab-badge.svg\" alt=\"Open In Colab\"/></a>"
      ]
    },
    {
      "cell_type": "markdown",
      "source": [
        "# Credit Risk Analysis - Machine Learning"
      ],
      "metadata": {
        "id": "UeD50EEUK8SX"
      },
      "id": "UeD50EEUK8SX"
    },
    {
      "cell_type": "code",
      "source": [
        "!pip install optuna\n",
        "!pip install -q kaggle"
      ],
      "metadata": {
        "id": "o2z-hlJ9d_EB",
        "outputId": "afa96040-aa28-4be0-cfbe-7fbe1e04b48e",
        "colab": {
          "base_uri": "https://localhost:8080/"
        }
      },
      "id": "o2z-hlJ9d_EB",
      "execution_count": 127,
      "outputs": [
        {
          "output_type": "stream",
          "name": "stdout",
          "text": [
            "Requirement already satisfied: optuna in /usr/local/lib/python3.11/dist-packages (4.3.0)\n",
            "Requirement already satisfied: alembic>=1.5.0 in /usr/local/lib/python3.11/dist-packages (from optuna) (1.15.2)\n",
            "Requirement already satisfied: colorlog in /usr/local/lib/python3.11/dist-packages (from optuna) (6.9.0)\n",
            "Requirement already satisfied: numpy in /usr/local/lib/python3.11/dist-packages (from optuna) (2.0.2)\n",
            "Requirement already satisfied: packaging>=20.0 in /usr/local/lib/python3.11/dist-packages (from optuna) (24.2)\n",
            "Requirement already satisfied: sqlalchemy>=1.4.2 in /usr/local/lib/python3.11/dist-packages (from optuna) (2.0.40)\n",
            "Requirement already satisfied: tqdm in /usr/local/lib/python3.11/dist-packages (from optuna) (4.67.1)\n",
            "Requirement already satisfied: PyYAML in /usr/local/lib/python3.11/dist-packages (from optuna) (6.0.2)\n",
            "Requirement already satisfied: Mako in /usr/lib/python3/dist-packages (from alembic>=1.5.0->optuna) (1.1.3)\n",
            "Requirement already satisfied: typing-extensions>=4.12 in /usr/local/lib/python3.11/dist-packages (from alembic>=1.5.0->optuna) (4.13.2)\n",
            "Requirement already satisfied: greenlet>=1 in /usr/local/lib/python3.11/dist-packages (from sqlalchemy>=1.4.2->optuna) (3.2.2)\n"
          ]
        }
      ]
    },
    {
      "cell_type": "code",
      "source": [
        "import pandas as pd\n",
        "import numpy as np\n",
        "import matplotlib.pyplot as plt\n",
        "import seaborn as sns\n",
        "import sklearn\n",
        "import duckdb as db\n",
        "\n",
        "from sklearn.impute import KNNImputer\n",
        "from sklearn.experimental import enable_iterative_imputer\n",
        "from sklearn.impute import IterativeImputer\n",
        "from sklearn.ensemble import RandomForestClassifier\n",
        "from sklearn.model_selection import train_test_split\n",
        "from sklearn.metrics import accuracy_score, confusion_matrix, classification_report\n",
        "from typing import List, Tuple\n",
        "import pandas as pd\n",
        "import numpy as np\n",
        "from sklearn.model_selection import train_test_split\n",
        "from sklearn.model_selection import StratifiedShuffleSplit\n",
        "from imblearn.ensemble import BalancedRandomForestClassifier\n",
        "from sklearn.metrics import roc_auc_score\n",
        "from sklearn.model_selection import StratifiedKFold\n",
        "from sklearn.model_selection import GridSearchCV\n",
        "import os\n",
        "import pickle\n",
        "import pandas as pd\n",
        "from sklearn.metrics import f1_score, precision_score, recall_score, confusion_matrix\n",
        "from sklearn.model_selection import GridSearchCV\n",
        "import matplotlib.pyplot as plt\n",
        "import seaborn as sns\n",
        "import joblib\n",
        "import optuna\n"
      ],
      "metadata": {
        "id": "YiSdn77bL5dG"
      },
      "id": "YiSdn77bL5dG",
      "execution_count": 128,
      "outputs": []
    },
    {
      "cell_type": "markdown",
      "source": [
        "## 1. Import and prepare data for training"
      ],
      "metadata": {
        "id": "P-HrE9iMP8Na"
      },
      "id": "P-HrE9iMP8Na"
    },
    {
      "cell_type": "code",
      "source": [
        "from google.colab import drive\n",
        "drive.mount('/content/drive')"
      ],
      "metadata": {
        "id": "KzZSPZoDLDBB",
        "outputId": "839aeea2-910f-428c-c03a-d391db0a62e3",
        "colab": {
          "base_uri": "https://localhost:8080/"
        }
      },
      "id": "KzZSPZoDLDBB",
      "execution_count": 129,
      "outputs": [
        {
          "output_type": "stream",
          "name": "stdout",
          "text": [
            "Drive already mounted at /content/drive; to attempt to forcibly remount, call drive.mount(\"/content/drive\", force_remount=True).\n"
          ]
        }
      ]
    },
    {
      "cell_type": "code",
      "source": [
        "db_path = '/content/drive/My Drive/Turing/ML Capstone project/home_credit.db'"
      ],
      "metadata": {
        "id": "PfhSdvPmLEAc"
      },
      "id": "PfhSdvPmLEAc",
      "execution_count": 130,
      "outputs": []
    },
    {
      "cell_type": "code",
      "source": [
        "con = db.connect(db_path)"
      ],
      "metadata": {
        "id": "qyMIwl3kLsEE"
      },
      "id": "qyMIwl3kLsEE",
      "execution_count": 131,
      "outputs": []
    },
    {
      "cell_type": "code",
      "source": [
        "con.execute('SHOW TABLES').fetchall()"
      ],
      "metadata": {
        "id": "8qrCg2QTMDzh",
        "outputId": "6f416f97-652f-4bd1-d073-5edd9c4732db",
        "colab": {
          "base_uri": "https://localhost:8080/"
        }
      },
      "id": "8qrCg2QTMDzh",
      "execution_count": 132,
      "outputs": [
        {
          "output_type": "execute_result",
          "data": {
            "text/plain": [
              "[('application_test',),\n",
              " ('application_train',),\n",
              " ('bureau',),\n",
              " ('bureau_balance',),\n",
              " ('bureau_merged_agg',),\n",
              " ('bureau_middle',),\n",
              " ('card_merged_agg',),\n",
              " ('credit_card_balance',),\n",
              " ('inst_merged_agg',),\n",
              " ('installments_payments',),\n",
              " ('pos_cash_balance',),\n",
              " ('pos_merged_agg',),\n",
              " ('prep_app_merged_history',),\n",
              " ('prep_app_merged_history_TEST',),\n",
              " ('prep_data',),\n",
              " ('prev_app_agg',),\n",
              " ('previous_application',)]"
            ]
          },
          "metadata": {},
          "execution_count": 132
        }
      ]
    },
    {
      "cell_type": "markdown",
      "source": [
        "Separate the ids from the set for later restoring."
      ],
      "metadata": {
        "id": "YTbVE9nonl1v"
      },
      "id": "YTbVE9nonl1v"
    },
    {
      "cell_type": "code",
      "source": [
        "train_ids = con.execute('SELECT SK_ID_CURR FROM prep_app_merged_history').fetchdf()['SK_ID_CURR']\n"
      ],
      "metadata": {
        "id": "33Qb74siQzGX"
      },
      "id": "33Qb74siQzGX",
      "execution_count": 133,
      "outputs": []
    },
    {
      "cell_type": "markdown",
      "source": [
        "Separate the target values to use later."
      ],
      "metadata": {
        "id": "fyhftCgQnpiq"
      },
      "id": "fyhftCgQnpiq"
    },
    {
      "cell_type": "code",
      "source": [
        "train_target = con.execute('SELECT TARGET FROM prep_app_merged_history').fetchdf()['TARGET']"
      ],
      "metadata": {
        "id": "6cxO-cHISOCw"
      },
      "id": "6cxO-cHISOCw",
      "execution_count": 134,
      "outputs": []
    },
    {
      "cell_type": "markdown",
      "source": [
        "Import training and testing sets."
      ],
      "metadata": {
        "id": "uNoXuERsQBG6"
      },
      "id": "uNoXuERsQBG6"
    },
    {
      "cell_type": "code",
      "source": [
        "training_data = con.execute('SELECT * FROM prep_app_merged_history').fetchdf()\n",
        "testing_data = con.execute('SELECT * FROM prep_app_merged_history_TEST').fetchdf()"
      ],
      "metadata": {
        "id": "s7bWdE1oMHrA"
      },
      "id": "s7bWdE1oMHrA",
      "execution_count": 135,
      "outputs": []
    },
    {
      "cell_type": "markdown",
      "source": [
        "Doing double checks as the saved data proved to be still not completely as desired earlier."
      ],
      "metadata": {
        "id": "DXsxfc_0MTd4"
      },
      "id": "DXsxfc_0MTd4"
    },
    {
      "cell_type": "code",
      "source": [
        "training_data.isna().sum()[training_data.isna().sum()>0]"
      ],
      "metadata": {
        "id": "47f5sxF7MRKX",
        "outputId": "60564b2c-8150-4c90-c24c-195c1c006283",
        "colab": {
          "base_uri": "https://localhost:8080/",
          "height": 458
        }
      },
      "id": "47f5sxF7MRKX",
      "execution_count": 136,
      "outputs": [
        {
          "output_type": "execute_result",
          "data": {
            "text/plain": [
              "EMERGENCYSTATE_MODE             145755\n",
              "bureau_earlier_credits_count     44020\n",
              "bureau_pct_Active                44020\n",
              "bureau_pct_Closed                44020\n",
              "bureau_pct_Sold                  44020\n",
              "                                 ...  \n",
              "NAME_PORTFOLIO_POS               16455\n",
              "NAME_PRODUCT_TYPE_x-sell         16455\n",
              "NAME_YIELD_GROUP_low_action      16455\n",
              "NAME_YIELD_GROUP_low_normal      16455\n",
              "NAME_YIELD_GROUP_middle          16455\n",
              "Length: 204, dtype: int64"
            ],
            "text/html": [
              "<div>\n",
              "<style scoped>\n",
              "    .dataframe tbody tr th:only-of-type {\n",
              "        vertical-align: middle;\n",
              "    }\n",
              "\n",
              "    .dataframe tbody tr th {\n",
              "        vertical-align: top;\n",
              "    }\n",
              "\n",
              "    .dataframe thead th {\n",
              "        text-align: right;\n",
              "    }\n",
              "</style>\n",
              "<table border=\"1\" class=\"dataframe\">\n",
              "  <thead>\n",
              "    <tr style=\"text-align: right;\">\n",
              "      <th></th>\n",
              "      <th>0</th>\n",
              "    </tr>\n",
              "  </thead>\n",
              "  <tbody>\n",
              "    <tr>\n",
              "      <th>EMERGENCYSTATE_MODE</th>\n",
              "      <td>145755</td>\n",
              "    </tr>\n",
              "    <tr>\n",
              "      <th>bureau_earlier_credits_count</th>\n",
              "      <td>44020</td>\n",
              "    </tr>\n",
              "    <tr>\n",
              "      <th>bureau_pct_Active</th>\n",
              "      <td>44020</td>\n",
              "    </tr>\n",
              "    <tr>\n",
              "      <th>bureau_pct_Closed</th>\n",
              "      <td>44020</td>\n",
              "    </tr>\n",
              "    <tr>\n",
              "      <th>bureau_pct_Sold</th>\n",
              "      <td>44020</td>\n",
              "    </tr>\n",
              "    <tr>\n",
              "      <th>...</th>\n",
              "      <td>...</td>\n",
              "    </tr>\n",
              "    <tr>\n",
              "      <th>NAME_PORTFOLIO_POS</th>\n",
              "      <td>16455</td>\n",
              "    </tr>\n",
              "    <tr>\n",
              "      <th>NAME_PRODUCT_TYPE_x-sell</th>\n",
              "      <td>16455</td>\n",
              "    </tr>\n",
              "    <tr>\n",
              "      <th>NAME_YIELD_GROUP_low_action</th>\n",
              "      <td>16455</td>\n",
              "    </tr>\n",
              "    <tr>\n",
              "      <th>NAME_YIELD_GROUP_low_normal</th>\n",
              "      <td>16455</td>\n",
              "    </tr>\n",
              "    <tr>\n",
              "      <th>NAME_YIELD_GROUP_middle</th>\n",
              "      <td>16455</td>\n",
              "    </tr>\n",
              "  </tbody>\n",
              "</table>\n",
              "<p>204 rows × 1 columns</p>\n",
              "</div><br><label><b>dtype:</b> int64</label>"
            ]
          },
          "metadata": {},
          "execution_count": 136
        }
      ]
    },
    {
      "cell_type": "markdown",
      "source": [
        "The high amount of missing values can be explained by the current ID not being present in lower-level tables, thus not having a relevant value.\n",
        "\n",
        "To correct this error I will impute the missing values or occasionally drop columns with an unreasonably high percventage of missing values."
      ],
      "metadata": {
        "id": "XvnAuXMfNqF3"
      },
      "id": "XvnAuXMfNqF3"
    },
    {
      "cell_type": "markdown",
      "source": [
        "Drop a mistakenly kept str feature that has already been one-hot encoded."
      ],
      "metadata": {
        "id": "EFsahDRpOq8e"
      },
      "id": "EFsahDRpOq8e"
    },
    {
      "cell_type": "code",
      "source": [
        "training_data.drop(columns = 'NAME_CONTRACT_STATUS', inplace= True )\n"
      ],
      "metadata": {
        "id": "d5FTEj5yOKUA"
      },
      "id": "d5FTEj5yOKUA",
      "execution_count": 137,
      "outputs": []
    },
    {
      "cell_type": "code",
      "source": [
        "testing_data.drop(columns = 'NAME_CONTRACT_STATUS', inplace= True )"
      ],
      "metadata": {
        "id": "iUN-KC3zOIuE"
      },
      "id": "iUN-KC3zOIuE",
      "execution_count": 138,
      "outputs": []
    },
    {
      "cell_type": "markdown",
      "source": [
        "Fill the missing values in the only boolean feature."
      ],
      "metadata": {
        "id": "hOh8wlYyOv8T"
      },
      "id": "hOh8wlYyOv8T"
    },
    {
      "cell_type": "code",
      "source": [
        "training_data.dtypes[training_data.dtypes == 'boolean']"
      ],
      "metadata": {
        "id": "N5eu0GAmNPdY",
        "outputId": "f4721f4c-2ea6-46e7-c473-0295f5e50048",
        "colab": {
          "base_uri": "https://localhost:8080/",
          "height": 115
        }
      },
      "id": "N5eu0GAmNPdY",
      "execution_count": 139,
      "outputs": [
        {
          "output_type": "execute_result",
          "data": {
            "text/plain": [
              "EMERGENCYSTATE_MODE    boolean\n",
              "dtype: object"
            ],
            "text/html": [
              "<div>\n",
              "<style scoped>\n",
              "    .dataframe tbody tr th:only-of-type {\n",
              "        vertical-align: middle;\n",
              "    }\n",
              "\n",
              "    .dataframe tbody tr th {\n",
              "        vertical-align: top;\n",
              "    }\n",
              "\n",
              "    .dataframe thead th {\n",
              "        text-align: right;\n",
              "    }\n",
              "</style>\n",
              "<table border=\"1\" class=\"dataframe\">\n",
              "  <thead>\n",
              "    <tr style=\"text-align: right;\">\n",
              "      <th></th>\n",
              "      <th>0</th>\n",
              "    </tr>\n",
              "  </thead>\n",
              "  <tbody>\n",
              "    <tr>\n",
              "      <th>EMERGENCYSTATE_MODE</th>\n",
              "      <td>boolean</td>\n",
              "    </tr>\n",
              "  </tbody>\n",
              "</table>\n",
              "</div><br><label><b>dtype:</b> object</label>"
            ]
          },
          "metadata": {},
          "execution_count": 139
        }
      ]
    },
    {
      "cell_type": "code",
      "source": [
        "training_data['EMERGENCYSTATE_MODE'] = training_data['EMERGENCYSTATE_MODE'].fillna(False)\n",
        "testing_data['EMERGENCYSTATE_MODE'] = testing_data['EMERGENCYSTATE_MODE'].fillna(False)"
      ],
      "metadata": {
        "id": "igM3N0V6OZIF"
      },
      "id": "igM3N0V6OZIF",
      "execution_count": 140,
      "outputs": []
    },
    {
      "cell_type": "markdown",
      "source": [
        "I am using a RandomForestClassifier to determine the most impactful features to avoid wasteful usage of computation capacity."
      ],
      "metadata": {
        "id": "7BfvdBP2nE3b"
      },
      "id": "7BfvdBP2nE3b"
    },
    {
      "cell_type": "code",
      "source": [
        "rf_classifier_1 = BalancedRandomForestClassifier(random_state=42)\n",
        "rf_classifier_2 = BalancedRandomForestClassifier(random_state=1)\n",
        "rf_classifier_3 = BalancedRandomForestClassifier(random_state=999)\n",
        "\n",
        "rf_classifiers = [rf_classifier_1, rf_classifier_2, rf_classifier_3]"
      ],
      "metadata": {
        "id": "7Favm69KnQbD"
      },
      "id": "7Favm69KnQbD",
      "execution_count": 141,
      "outputs": []
    },
    {
      "cell_type": "code",
      "source": [
        "X, y = training_data.drop(columns='TARGET'), training_data['TARGET']\n",
        "X_train, X_test, y_train, y_test = train_test_split(X, y, test_size=0.2, random_state=42)"
      ],
      "metadata": {
        "id": "DWaOg4MQoFg_"
      },
      "id": "DWaOg4MQoFg_",
      "execution_count": 142,
      "outputs": []
    },
    {
      "cell_type": "code",
      "source": [
        "def create_random_samples(X_train, y_train, X_test, y_test, num_samples, initial_random_state=None, sample_fraction=0.1):\n",
        "    \"\"\"\n",
        "    Generates multiple random samples (subsets) from the training and testing data, stratified by the target variable.\n",
        "\n",
        "    Args:\n",
        "        X_train (pd.DataFrame): Training features.\n",
        "        y_train (pd.Series): Training target.\n",
        "        X_test (pd.DataFrame): Testing features.\n",
        "        y_test (pd.Series): Testing target.\n",
        "        num_samples (int): The number of random samples to generate.\n",
        "        initial_random_state (int, optional): Random state for the first sample, defaults to None.\n",
        "        sample_fraction (float, optional): The fraction of data to include in each sample, defaults to 0.1.\n",
        "\n",
        "    Returns:\n",
        "        tuple: A tuple containing four lists:\n",
        "               - list of sampled X_train DataFrames\n",
        "               - list of sampled y_train Series\n",
        "               - list of sampled X_test DataFrames\n",
        "               - list of sampled y_test Series\n",
        "    \"\"\"\n",
        "\n",
        "\n",
        "    X_train_samples = []\n",
        "    y_train_samples = []\n",
        "    X_test_samples = []\n",
        "    y_test_samples = []\n",
        "\n",
        "    train_data = pd.concat([X_train, y_train], axis=1)\n",
        "    test_data = pd.concat([X_test, y_test], axis=1)\n",
        "\n",
        "\n",
        "    for i in range(num_samples):\n",
        "        random_state = initial_random_state if i == 0 else None\n",
        "        splitter = StratifiedShuffleSplit(n_splits=1, test_size=1 - sample_fraction, random_state=random_state)\n",
        "\n",
        "        for train_index, _ in splitter.split(train_data, train_data['TARGET']):\n",
        "            train_sample = train_data.iloc[train_index]\n",
        "            X_train_samples.append(train_sample.drop(columns=['TARGET']))\n",
        "            y_train_samples.append(train_sample['TARGET'])\n",
        "\n",
        "        for test_index, _ in splitter.split(test_data, test_data['TARGET']):\n",
        "            test_sample = test_data.iloc[test_index]\n",
        "            X_test_samples.append(test_sample.drop(columns=['TARGET']))\n",
        "            y_test_samples.append(test_sample['TARGET'])\n",
        "\n",
        "    return X_train_samples, y_train_samples, X_test_samples, y_test_samples"
      ],
      "metadata": {
        "id": "qoqWdScAqZhG"
      },
      "id": "qoqWdScAqZhG",
      "execution_count": 143,
      "outputs": []
    },
    {
      "cell_type": "code",
      "source": [
        "num_samples_to_create = 3\n",
        "X_train_samples_list, y_train_samples_list, X_test_samples_list, y_test_samples_list = create_random_samples(\n",
        "    X_train, y_train, X_test, y_test, num_samples=num_samples_to_create, initial_random_state=1\n",
        ")\n",
        "\n",
        "print(f\"Generated {len(X_train_samples_list)} sets of training and testing samples.\")"
      ],
      "metadata": {
        "id": "rT_eCfaVsYY0",
        "colab": {
          "base_uri": "https://localhost:8080/"
        },
        "outputId": "28de917a-8f75-4337-ce52-177844119997"
      },
      "id": "rT_eCfaVsYY0",
      "execution_count": 144,
      "outputs": [
        {
          "output_type": "stream",
          "name": "stdout",
          "text": [
            "Generated 3 sets of training and testing samples.\n"
          ]
        }
      ]
    },
    {
      "cell_type": "markdown",
      "source": [
        "Train the initialized models with the random samples.\n",
        "Store the feature importances in a new dataframe to determine the relevant features."
      ],
      "metadata": {
        "id": "BIqM8gcztZ0o"
      },
      "id": "BIqM8gcztZ0o"
    },
    {
      "cell_type": "code",
      "source": [
        "from sklearn.metrics import f1_score\n",
        "\n",
        "feature_importances = pd.DataFrame(columns=['Feature'])\n",
        "\n",
        "for i in range(num_samples_to_create):\n",
        "    rf_classifiers[i].fit(X_train_samples_list[i], y_train_samples_list[i])\n",
        "    y_pred = rf_classifiers[i].predict(X_test_samples_list[i])\n",
        "\n",
        "    conf_matrix = confusion_matrix(y_test_samples_list[i], y_pred)\n",
        "    sns.heatmap(conf_matrix, annot=True, fmt='d', cmap='Blues')\n",
        "    plt.title(f'Confusion Matrix for Sample {i + 1}')\n",
        "    plt.xlabel('Predicted')\n",
        "    plt.ylabel('Actual')\n",
        "    plt.show()\n",
        "\n",
        "    print(f\"Classification Report for Sample {i + 1}:\\n{classification_report(y_test_samples_list[i], y_pred)}\")\n",
        "\n",
        "    f1 = f1_score(y_test_samples_list[i], y_pred, pos_label=1)\n",
        "    print(f\"F1 Score (Positive Class) for Sample {i + 1}: {f1}\")\n",
        "\n",
        "    feature_importances[f'Sample_{i + 1}'] = rf_classifiers[i].feature_importances_\n",
        "\n",
        "feature_importances['Feature'] = X_train_samples_list[0].columns\n",
        "\n"
      ],
      "metadata": {
        "id": "6dAl1T8B315T",
        "colab": {
          "base_uri": "https://localhost:8080/",
          "height": 1000
        },
        "outputId": "f5d90820-4e94-403e-884e-ee9dfd2eb090"
      },
      "id": "6dAl1T8B315T",
      "execution_count": 145,
      "outputs": [
        {
          "output_type": "display_data",
          "data": {
            "text/plain": [
              "<Figure size 640x480 with 2 Axes>"
            ],
            "image/png": "[encoded data removed]"
          },
          "metadata": {}
        },
        {
          "output_type": "stream",
          "name": "stdout",
          "text": [
            "Classification Report for Sample 1:\n",
            "              precision    recall  f1-score   support\n",
            "\n",
            "           0       0.95      0.87      0.91      5659\n",
            "           1       0.23      0.43      0.30       491\n",
            "\n",
            "    accuracy                           0.84      6150\n",
            "   macro avg       0.59      0.65      0.60      6150\n",
            "weighted avg       0.89      0.84      0.86      6150\n",
            "\n",
            "F1 Score (Positive Class) for Sample 1: 0.2951510892480675\n"
          ]
        },
        {
          "output_type": "display_data",
          "data": {
            "text/plain": [
              "<Figure size 640x480 with 2 Axes>"
            ],
            "image/png": "[encoded data removed]"
          },
          "metadata": {}
        },
        {
          "output_type": "stream",
          "name": "stdout",
          "text": [
            "Classification Report for Sample 2:\n",
            "              precision    recall  f1-score   support\n",
            "\n",
            "           0       0.94      0.86      0.90      5659\n",
            "           1       0.18      0.36      0.24       491\n",
            "\n",
            "    accuracy                           0.82      6150\n",
            "   macro avg       0.56      0.61      0.57      6150\n",
            "weighted avg       0.88      0.82      0.85      6150\n",
            "\n",
            "F1 Score (Positive Class) for Sample 2: 0.24376731301939059\n"
          ]
        },
        {
          "output_type": "display_data",
          "data": {
            "text/plain": [
              "<Figure size 640x480 with 2 Axes>"
            ],
            "image/png": "[encoded data removed]"
          },
          "metadata": {}
        },
        {
          "output_type": "stream",
          "name": "stdout",
          "text": [
            "Classification Report for Sample 3:\n",
            "              precision    recall  f1-score   support\n",
            "\n",
            "           0       0.94      0.88      0.91      5659\n",
            "           1       0.22      0.37      0.28       491\n",
            "\n",
            "    accuracy                           0.84      6150\n",
            "   macro avg       0.58      0.63      0.59      6150\n",
            "weighted avg       0.88      0.84      0.86      6150\n",
            "\n",
            "F1 Score (Positive Class) for Sample 3: 0.27627627627627627\n"
          ]
        }
      ]
    },
    {
      "cell_type": "markdown",
      "source": [
        "As we got very poor F1-scores: around 0.3, I will have to do modifications, as the current models do not capture important patterns."
      ],
      "metadata": {
        "id": "7ewOhOPoqDT-"
      },
      "id": "7ewOhOPoqDT-"
    },
    {
      "cell_type": "markdown",
      "source": [
        "Handling the missing values in the dataset."
      ],
      "metadata": {
        "id": "cRKLJ_BuFL6D"
      },
      "id": "cRKLJ_BuFL6D"
    },
    {
      "cell_type": "code",
      "source": [
        "training_data.isna().sum()[training_data.isna().sum()>0]"
      ],
      "metadata": {
        "colab": {
          "base_uri": "https://localhost:8080/",
          "height": 458
        },
        "id": "WFPu9yd-xuqj",
        "outputId": "c9c290be-1072-4940-8673-02386bc4a849"
      },
      "id": "WFPu9yd-xuqj",
      "execution_count": 146,
      "outputs": [
        {
          "output_type": "execute_result",
          "data": {
            "text/plain": [
              "bureau_earlier_credits_count    44020\n",
              "bureau_pct_Active               44020\n",
              "bureau_pct_Closed               44020\n",
              "bureau_pct_Sold                 44020\n",
              "bureau_pct_other                44020\n",
              "                                ...  \n",
              "NAME_PORTFOLIO_POS              16455\n",
              "NAME_PRODUCT_TYPE_x-sell        16455\n",
              "NAME_YIELD_GROUP_low_action     16455\n",
              "NAME_YIELD_GROUP_low_normal     16455\n",
              "NAME_YIELD_GROUP_middle         16455\n",
              "Length: 202, dtype: int64"
            ],
            "text/html": [
              "<div>\n",
              "<style scoped>\n",
              "    .dataframe tbody tr th:only-of-type {\n",
              "        vertical-align: middle;\n",
              "    }\n",
              "\n",
              "    .dataframe tbody tr th {\n",
              "        vertical-align: top;\n",
              "    }\n",
              "\n",
              "    .dataframe thead th {\n",
              "        text-align: right;\n",
              "    }\n",
              "</style>\n",
              "<table border=\"1\" class=\"dataframe\">\n",
              "  <thead>\n",
              "    <tr style=\"text-align: right;\">\n",
              "      <th></th>\n",
              "      <th>0</th>\n",
              "    </tr>\n",
              "  </thead>\n",
              "  <tbody>\n",
              "    <tr>\n",
              "      <th>bureau_earlier_credits_count</th>\n",
              "      <td>44020</td>\n",
              "    </tr>\n",
              "    <tr>\n",
              "      <th>bureau_pct_Active</th>\n",
              "      <td>44020</td>\n",
              "    </tr>\n",
              "    <tr>\n",
              "      <th>bureau_pct_Closed</th>\n",
              "      <td>44020</td>\n",
              "    </tr>\n",
              "    <tr>\n",
              "      <th>bureau_pct_Sold</th>\n",
              "      <td>44020</td>\n",
              "    </tr>\n",
              "    <tr>\n",
              "      <th>bureau_pct_other</th>\n",
              "      <td>44020</td>\n",
              "    </tr>\n",
              "    <tr>\n",
              "      <th>...</th>\n",
              "      <td>...</td>\n",
              "    </tr>\n",
              "    <tr>\n",
              "      <th>NAME_PORTFOLIO_POS</th>\n",
              "      <td>16455</td>\n",
              "    </tr>\n",
              "    <tr>\n",
              "      <th>NAME_PRODUCT_TYPE_x-sell</th>\n",
              "      <td>16455</td>\n",
              "    </tr>\n",
              "    <tr>\n",
              "      <th>NAME_YIELD_GROUP_low_action</th>\n",
              "      <td>16455</td>\n",
              "    </tr>\n",
              "    <tr>\n",
              "      <th>NAME_YIELD_GROUP_low_normal</th>\n",
              "      <td>16455</td>\n",
              "    </tr>\n",
              "    <tr>\n",
              "      <th>NAME_YIELD_GROUP_middle</th>\n",
              "      <td>16455</td>\n",
              "    </tr>\n",
              "  </tbody>\n",
              "</table>\n",
              "<p>202 rows × 1 columns</p>\n",
              "</div><br><label><b>dtype:</b> int64</label>"
            ]
          },
          "metadata": {},
          "execution_count": 146
        }
      ]
    },
    {
      "cell_type": "markdown",
      "source": [
        "Downcast numeric types to save memory."
      ],
      "metadata": {
        "id": "lmL9fhXx8rcc"
      },
      "id": "lmL9fhXx8rcc"
    },
    {
      "cell_type": "code",
      "source": [
        "training_data = training_data.apply(pd.to_numeric, downcast='float')\n",
        "training_data = training_data.apply(pd.to_numeric, downcast='integer')\n",
        "\n",
        "training_data['EMERGENCYSTATE_MODE'] = training_data['EMERGENCYSTATE_MODE'].apply(lambda x: 1 if x is True else (0 if x is False else x))\n",
        "\n",
        "training_data.dtypes.unique()\n"
      ],
      "metadata": {
        "colab": {
          "base_uri": "https://localhost:8080/"
        },
        "id": "ybx52l-ayj5K",
        "outputId": "5a7c8f8c-9e60-4bc9-fd71-f74d43d3cbf9"
      },
      "id": "ybx52l-ayj5K",
      "execution_count": 147,
      "outputs": [
        {
          "output_type": "execute_result",
          "data": {
            "text/plain": [
              "array([dtype('int8'), dtype('int16'), dtype('float32'), dtype('int32'),\n",
              "       dtype('int64'), Int8Dtype(), Int16Dtype(), Int32Dtype()],\n",
              "      dtype=object)"
            ]
          },
          "metadata": {},
          "execution_count": 147
        }
      ]
    },
    {
      "cell_type": "code",
      "source": [
        "testing_data = testing_data.apply(pd.to_numeric, downcast='float')\n",
        "testing_data = testing_data.apply(pd.to_numeric, downcast='integer')\n",
        "\n",
        "testing_data['EMERGENCYSTATE_MODE'] = testing_data['EMERGENCYSTATE_MODE'].apply(lambda x: 1 if x is True else (0 if x is False else x))"
      ],
      "metadata": {
        "id": "gNO1Mr1JOSO7"
      },
      "id": "gNO1Mr1JOSO7",
      "execution_count": 148,
      "outputs": []
    },
    {
      "cell_type": "markdown",
      "source": [
        "Clean column names from confusing characters."
      ],
      "metadata": {
        "id": "UbnP_zYx8lRF"
      },
      "id": "UbnP_zYx8lRF"
    },
    {
      "cell_type": "code",
      "source": [
        "def clean_column_names(df):\n",
        "    df.columns = df.columns.str.replace(r'[\\\"\\'{}\\[\\]:, ]', '', regex=True)\n",
        "    return df\n",
        "\n",
        "training_data = clean_column_names(training_data)\n",
        "testing_data = clean_column_names(testing_data)"
      ],
      "metadata": {
        "id": "UJej99Zc8e4B"
      },
      "id": "UJej99Zc8e4B",
      "execution_count": 149,
      "outputs": []
    },
    {
      "cell_type": "markdown",
      "source": [
        "Impute the missing values and indicate them with a flag for predictive power."
      ],
      "metadata": {
        "id": "tZyq09sX7g8u"
      },
      "id": "tZyq09sX7g8u"
    },
    {
      "cell_type": "code",
      "source": [
        "from sklearn.impute import SimpleImputer\n",
        "\n",
        "cols_with_missing = training_data.columns[training_data.isnull().any()]\n",
        "\n",
        "missing_indicators = pd.concat(\n",
        "    [training_data[col].isnull().astype('int8').rename(f'{col}_was_missing') for col in cols_with_missing],\n",
        "    axis=1\n",
        ")\n",
        "\n",
        "training_data = pd.concat([training_data, missing_indicators], axis=1)\n",
        "\n",
        "imputer = SimpleImputer(strategy='median')\n",
        "training_data[cols_with_missing] = imputer.fit_transform(training_data[cols_with_missing])\n",
        "\n",
        "missing_indicators_test = pd.concat(\n",
        "    [testing_data[col].isnull().astype('int8').rename(f'{col}_was_missing') for col in cols_with_missing],\n",
        "    axis=1\n",
        ")\n",
        "testing_data = pd.concat([testing_data, missing_indicators_test], axis=1)\n",
        "\n",
        "testing_data[cols_with_missing] = imputer.transform(testing_data[cols_with_missing])\n"
      ],
      "metadata": {
        "id": "XvXTmNcZ0Y_y"
      },
      "id": "XvXTmNcZ0Y_y",
      "execution_count": 150,
      "outputs": []
    },
    {
      "cell_type": "markdown",
      "source": [
        "Create baseline model using the imputed dataset."
      ],
      "metadata": {
        "id": "wJkAvNdF7oGJ"
      },
      "id": "wJkAvNdF7oGJ"
    },
    {
      "cell_type": "code",
      "source": [
        "training_data['TARGET']"
      ],
      "metadata": {
        "id": "dELNs3ADR9WM",
        "outputId": "14395a0c-ffc9-4037-84b6-9b80654c156b",
        "colab": {
          "base_uri": "https://localhost:8080/",
          "height": 458
        }
      },
      "id": "dELNs3ADR9WM",
      "execution_count": 151,
      "outputs": [
        {
          "output_type": "execute_result",
          "data": {
            "text/plain": [
              "0         0\n",
              "1         0\n",
              "2         0\n",
              "3         0\n",
              "4         1\n",
              "         ..\n",
              "307506    1\n",
              "307507    0\n",
              "307508    0\n",
              "307509    0\n",
              "307510    0\n",
              "Name: TARGET, Length: 307511, dtype: int8"
            ],
            "text/html": [
              "<div>\n",
              "<style scoped>\n",
              "    .dataframe tbody tr th:only-of-type {\n",
              "        vertical-align: middle;\n",
              "    }\n",
              "\n",
              "    .dataframe tbody tr th {\n",
              "        vertical-align: top;\n",
              "    }\n",
              "\n",
              "    .dataframe thead th {\n",
              "        text-align: right;\n",
              "    }\n",
              "</style>\n",
              "<table border=\"1\" class=\"dataframe\">\n",
              "  <thead>\n",
              "    <tr style=\"text-align: right;\">\n",
              "      <th></th>\n",
              "      <th>TARGET</th>\n",
              "    </tr>\n",
              "  </thead>\n",
              "  <tbody>\n",
              "    <tr>\n",
              "      <th>0</th>\n",
              "      <td>0</td>\n",
              "    </tr>\n",
              "    <tr>\n",
              "      <th>1</th>\n",
              "      <td>0</td>\n",
              "    </tr>\n",
              "    <tr>\n",
              "      <th>2</th>\n",
              "      <td>0</td>\n",
              "    </tr>\n",
              "    <tr>\n",
              "      <th>3</th>\n",
              "      <td>0</td>\n",
              "    </tr>\n",
              "    <tr>\n",
              "      <th>4</th>\n",
              "      <td>1</td>\n",
              "    </tr>\n",
              "    <tr>\n",
              "      <th>...</th>\n",
              "      <td>...</td>\n",
              "    </tr>\n",
              "    <tr>\n",
              "      <th>307506</th>\n",
              "      <td>1</td>\n",
              "    </tr>\n",
              "    <tr>\n",
              "      <th>307507</th>\n",
              "      <td>0</td>\n",
              "    </tr>\n",
              "    <tr>\n",
              "      <th>307508</th>\n",
              "      <td>0</td>\n",
              "    </tr>\n",
              "    <tr>\n",
              "      <th>307509</th>\n",
              "      <td>0</td>\n",
              "    </tr>\n",
              "    <tr>\n",
              "      <th>307510</th>\n",
              "      <td>0</td>\n",
              "    </tr>\n",
              "  </tbody>\n",
              "</table>\n",
              "<p>307511 rows × 1 columns</p>\n",
              "</div><br><label><b>dtype:</b> int8</label>"
            ]
          },
          "metadata": {},
          "execution_count": 151
        }
      ]
    },
    {
      "cell_type": "code",
      "source": [
        "from imblearn.ensemble import BalancedRandomForestClassifier\n",
        "from sklearn.model_selection import train_test_split\n",
        "from sklearn.metrics import classification_report, confusion_matrix, f1_score\n",
        "import seaborn as sns\n",
        "import matplotlib.pyplot as plt\n",
        "\n",
        "X = training_data.drop(columns=['TARGET', 'SK_ID_CURR'])\n",
        "y = training_data['TARGET']\n",
        "\n",
        "X_train, X_test, y_train, y_test = train_test_split(\n",
        "    X, y, stratify=y, test_size=0.2, random_state=42\n",
        ")\n",
        "\n",
        "clf = BalancedRandomForestClassifier(n_estimators=100, random_state=42, n_jobs=-1)\n",
        "\n",
        "clf.fit(X_train, y_train)\n",
        "\n",
        "y_pred = clf.predict(X_test)\n",
        "\n",
        "print(\"Classification Report:\")\n",
        "print(classification_report(y_test, y_pred))\n",
        "print(\"F1-score (macro):\", f1_score(y_test, y_pred, average='macro'))\n",
        "print(\"F1-score (pos class):\", f1_score(y_test, y_pred, pos_label=1))\n",
        "\n",
        "sns.heatmap(confusion_matrix(y_test, y_pred), annot=True, fmt='d', cmap='Blues')\n",
        "plt.title('Confusion Matrix')\n",
        "plt.xlabel('Predicted')\n",
        "plt.ylabel('Actual')\n",
        "plt.show()\n"
      ],
      "metadata": {
        "colab": {
          "base_uri": "https://localhost:8080/",
          "height": 680
        },
        "id": "IoVBCyJY6eud",
        "outputId": "bbb56d77-1c7b-4a3b-835e-685fa341d214"
      },
      "id": "IoVBCyJY6eud",
      "execution_count": 152,
      "outputs": [
        {
          "output_type": "stream",
          "name": "stdout",
          "text": [
            "Classification Report:\n",
            "              precision    recall  f1-score   support\n",
            "\n",
            "           0       0.95      0.87      0.91     56538\n",
            "           1       0.23      0.43      0.30      4965\n",
            "\n",
            "    accuracy                           0.84     61503\n",
            "   macro avg       0.59      0.65      0.60     61503\n",
            "weighted avg       0.89      0.84      0.86     61503\n",
            "\n",
            "F1-score (macro): 0.6043836565651519\n",
            "F1-score (pos class): 0.30070663961379696\n"
          ]
        },
        {
          "output_type": "display_data",
          "data": {
            "text/plain": [
              "<Figure size 640x480 with 2 Axes>"
            ],
            "image/png": "[encoded data removed]"
          },
          "metadata": {}
        }
      ]
    },
    {
      "cell_type": "markdown",
      "source": [
        "The performance is still really poor after imputing the missing values.\n",
        "\n",
        "I will try SMOTE to compensate for the imbalance in the target."
      ],
      "metadata": {
        "id": "l4ZKnDGgFcuY"
      },
      "id": "l4ZKnDGgFcuY"
    },
    {
      "cell_type": "code",
      "source": [
        "from sklearn.linear_model import LogisticRegression\n",
        "from imblearn.ensemble import BalancedRandomForestClassifier\n",
        "from sklearn.ensemble import RandomForestClassifier, GradientBoostingClassifier\n",
        "from lightgbm import LGBMClassifier\n",
        "from xgboost import XGBClassifier\n",
        "from sklearn.svm import SVC\n",
        "from sklearn.neighbors import KNeighborsClassifier\n",
        "from sklearn.model_selection import GridSearchCV\n",
        "from sklearn.metrics import classification_report, f1_score\n",
        "from imblearn.over_sampling import SMOTE\n",
        "from imblearn.pipeline import Pipeline\n",
        "import warnings\n",
        "warnings.filterwarnings('ignore')\n"
      ],
      "metadata": {
        "id": "K5nKsr2c9I2P"
      },
      "id": "K5nKsr2c9I2P",
      "execution_count": 153,
      "outputs": []
    },
    {
      "cell_type": "code",
      "source": [
        "from imblearn.over_sampling import SMOTE\n",
        "\n",
        "smote = SMOTE(random_state=42)\n",
        "X_res, y_res = smote.fit_resample(X_train, y_train)\n"
      ],
      "metadata": {
        "id": "cR3ET9_a8vf4"
      },
      "id": "cR3ET9_a8vf4",
      "execution_count": 154,
      "outputs": []
    },
    {
      "cell_type": "code",
      "source": [
        "def tune_classifier(model, X_train, y_train, param_grid, cv_splits=3, scoring='f1'):\n",
        "    \"\"\"\n",
        "    Tunes a classifier model using GridSearchCV with Stratified K-Fold.\n",
        "\n",
        "    Args:\n",
        "        model (estimator): The classifier model to tune (e.g., LogisticRegression(), LGBMClassifier()).\n",
        "        X_train (array-like): Training feature data.\n",
        "        y_train (array-like): Training target data.\n",
        "        param_grid (dict): Dictionary of hyperparameters and their values to search.\n",
        "        cv_splits (int): Number of cross-validation folds.\n",
        "        scoring (str): Scoring metric to optimize (e.g., 'accuracy', 'f1', 'roc_auc').\n",
        "\n",
        "    Returns:\n",
        "        GridSearchCV: Fitted GridSearchCV object containing the results of the search.\n",
        "    \"\"\"\n",
        "    cv = StratifiedKFold(n_splits=cv_splits, shuffle=True, random_state=42)\n",
        "\n",
        "    grid_search = GridSearchCV(\n",
        "        estimator=model,\n",
        "        param_grid=param_grid,\n",
        "        scoring=scoring,\n",
        "        cv=cv,\n",
        "        verbose=1,\n",
        "        n_jobs=-1\n",
        "    )\n",
        "\n",
        "    print(f\"Starting GridSearchCV for {type(model).__name__} with scoring='{scoring}' and {cv_splits}-fold cross-validation...\")\n",
        "    grid_search.fit(X_train, y_train)\n",
        "    print(\"GridSearchCV finished.\")\n",
        "\n",
        "    print(f\"Best Hyperparameters: {grid_search.best_params_}\")\n",
        "    print(f\"Best {scoring} (Cross-Validation): {grid_search.best_score_:.4f}\")\n",
        "\n",
        "    return grid_search"
      ],
      "metadata": {
        "id": "A1Q5aQd0E4bC"
      },
      "id": "A1Q5aQd0E4bC",
      "execution_count": 155,
      "outputs": []
    },
    {
      "cell_type": "markdown",
      "source": [
        "Subsample from the training set, so we can deetrmine faster which models show potential for actual training and CV."
      ],
      "metadata": {
        "id": "CehPHksgGMwg"
      },
      "id": "CehPHksgGMwg"
    },
    {
      "cell_type": "code",
      "source": [
        "X_train_sample, X_test_sample, y_train_sample, y_test_sample = train_test_split(X_res, y_res, test_size=0.85, stratify=y_res, random_state=42)"
      ],
      "metadata": {
        "id": "ZZSqMCLHGFJ0"
      },
      "id": "ZZSqMCLHGFJ0",
      "execution_count": 156,
      "outputs": []
    },
    {
      "cell_type": "markdown",
      "source": [
        "Create a tracker table for the results of the training."
      ],
      "metadata": {
        "id": "siC8AOwTGQuS"
      },
      "id": "siC8AOwTGQuS"
    },
    {
      "cell_type": "code",
      "source": [
        "sample_train_results = pd.DataFrame(columns = [['model', 'F1-score']])"
      ],
      "metadata": {
        "id": "y0MidjQgFOJv"
      },
      "id": "y0MidjQgFOJv",
      "execution_count": 157,
      "outputs": []
    },
    {
      "cell_type": "markdown",
      "source": [
        "Save the trained models for later loading."
      ],
      "metadata": {
        "id": "kxmq7cuJ_k4T"
      },
      "id": "kxmq7cuJ_k4T"
    },
    {
      "cell_type": "code",
      "source": [
        "model_save_path = '/content/drive/My Drive/Turing/ML Capstone project/trained_models'\n",
        "\n",
        "os.makedirs(model_save_path, exist_ok=True)"
      ],
      "metadata": {
        "id": "CoLmiWHJ_hSh"
      },
      "id": "CoLmiWHJ_hSh",
      "execution_count": 158,
      "outputs": []
    },
    {
      "cell_type": "code",
      "source": [
        "from sklearn.linear_model import LogisticRegression\n",
        "\n",
        "if not os.path.exists(os.path.join(model_save_path, 'logreg_model.pkl')):\n",
        "    logreg_model = LogisticRegression(max_iter=1000, solver='saga')\n",
        "    logreg_model.fit(X_train_sample, y_train_sample)\n",
        "    joblib.dump(logreg_model, model_save_path + '/logreg_model.pkl')\n",
        "else:\n",
        "    logreg_model = joblib.load(model_save_path + '/logreg_model.pkl')"
      ],
      "metadata": {
        "id": "mkISA4_z6YaL"
      },
      "id": "mkISA4_z6YaL",
      "execution_count": 159,
      "outputs": []
    },
    {
      "cell_type": "code",
      "source": [
        "from sklearn.metrics import f1_score\n",
        "\n",
        "log_preds = logreg_model.predict(X_test_sample)\n",
        "\n",
        "f1_score(y_test_sample, log_preds, pos_label=1)"
      ],
      "metadata": {
        "colab": {
          "base_uri": "https://localhost:8080/"
        },
        "id": "X9-QFwCwBtM8",
        "outputId": "fc768c36-ddfa-464c-9fbf-d7c0726522d3"
      },
      "id": "X9-QFwCwBtM8",
      "execution_count": 160,
      "outputs": [
        {
          "output_type": "execute_result",
          "data": {
            "text/plain": [
              "0.5957122484803259"
            ]
          },
          "metadata": {},
          "execution_count": 160
        }
      ]
    },
    {
      "cell_type": "code",
      "source": [
        "def add_model_result(df, model_name, y_true, y_pred, pos_label=1):\n",
        "    f1 = f1_score(y_true, y_pred, pos_label=pos_label)\n",
        "    new_row = pd.DataFrame({'model': [model_name], 'F1-score': [round(f1, 4)]})\n",
        "    return pd.concat([df, new_row], ignore_index=True)"
      ],
      "metadata": {
        "id": "ubCkAkWWHQp0"
      },
      "id": "ubCkAkWWHQp0",
      "execution_count": 161,
      "outputs": []
    },
    {
      "cell_type": "code",
      "source": [
        "new_row = pd.DataFrame({'model': 'Logistic Regression', 'F1-score': f1_score(y_test_sample, log_preds, pos_label=1)}, index=[0])\n",
        "sample_train_results = pd.concat([sample_train_results, new_row], ignore_index=True)"
      ],
      "metadata": {
        "id": "G4fwjjnXD5TF"
      },
      "id": "G4fwjjnXD5TF",
      "execution_count": 162,
      "outputs": []
    },
    {
      "cell_type": "code",
      "source": [
        "from imblearn.ensemble import BalancedRandomForestClassifier\n",
        "from sklearn.ensemble import RandomForestClassifier, GradientBoostingClassifier\n",
        "from lightgbm import LGBMClassifier\n",
        "from xgboost import XGBClassifier\n",
        "from sklearn.svm import SVC\n",
        "from sklearn.neighbors import KNeighborsClassifier"
      ],
      "metadata": {
        "id": "8kfxra9ZGYS2"
      },
      "id": "8kfxra9ZGYS2",
      "execution_count": 163,
      "outputs": []
    },
    {
      "cell_type": "code",
      "source": [
        "if not os.path.exists(os.path.join(model_save_path, 'balanced_forest.pkl')):\n",
        "    balanced_forest = BalancedRandomForestClassifier()\n",
        "    balanced_forest.fit(X_train_sample, y_train_sample)\n",
        "    joblib.dump(balanced_forest, model_save_path + '/balanced_forest.pkl')\n",
        "else:\n",
        "    balanced_forest = joblib.load(model_save_path + '/balanced_forest.pkl')"
      ],
      "metadata": {
        "id": "AOmtdgtXGf6s"
      },
      "id": "AOmtdgtXGf6s",
      "execution_count": 164,
      "outputs": []
    },
    {
      "cell_type": "code",
      "source": [
        "sample_train_results = add_model_result(sample_train_results, 'Balanced Random Forest', y_test_sample, balanced_forest.predict(X_test_sample))"
      ],
      "metadata": {
        "id": "myAc6qXAGjLY"
      },
      "id": "myAc6qXAGjLY",
      "execution_count": 165,
      "outputs": []
    },
    {
      "cell_type": "code",
      "source": [
        "xgb_model_path = os.path.join(model_save_path, 'xgboost.pkl')\n",
        "\n",
        "if not os.path.exists(xgb_model_path):\n",
        "    xgb = XGBClassifier(use_label_encoder=False, eval_metric='logloss', random_state=42, n_jobs=-1)\n",
        "    xgb.fit(X_train_sample, y_train_sample)\n",
        "    joblib.dump(xgb, xgb_model_path)\n",
        "else:\n",
        "    xgb = joblib.load(xgb_model_path)"
      ],
      "metadata": {
        "id": "Rgwt8AINHW-O"
      },
      "id": "Rgwt8AINHW-O",
      "execution_count": 166,
      "outputs": []
    },
    {
      "cell_type": "code",
      "source": [
        "sample_train_results = add_model_result(sample_train_results, 'XGBoost', y_test_sample, xgb.predict(X_test_sample))"
      ],
      "metadata": {
        "id": "MB9YJMPAHiBr"
      },
      "id": "MB9YJMPAHiBr",
      "execution_count": 167,
      "outputs": []
    },
    {
      "cell_type": "code",
      "source": [
        "lgbm_model_path = os.path.join(model_save_path, 'lgbm.pkl')\n",
        "\n",
        "if not os.path.exists(lgbm_model_path):\n",
        "    lgbm = LGBMClassifier(\n",
        "        objective='binary',\n",
        "        metric='f1',\n",
        "        random_state=42,\n",
        "        n_jobs=-1\n",
        "    )\n",
        "    lgbm.fit(\n",
        "        X_train_sample, y_train_sample,\n",
        "        eval_set=[(X_test_sample, y_test_sample)],\n",
        "        eval_metric='f1',\n",
        "    )\n",
        "    joblib.dump(lgbm, lgbm_model_path)\n",
        "else:\n",
        "    lgbm = joblib.load(lgbm_model_path)"
      ],
      "metadata": {
        "colab": {
          "base_uri": "https://localhost:8080/"
        },
        "id": "VamhP8y3XoHg",
        "outputId": "87d0ba79-ac96-47d5-d674-3df4104b5f13"
      },
      "id": "VamhP8y3XoHg",
      "execution_count": 168,
      "outputs": [
        {
          "output_type": "stream",
          "name": "stdout",
          "text": [
            "[LightGBM] [Info] Number of positive: 33922, number of negative: 33922\n",
            "[LightGBM] [Info] Auto-choosing col-wise multi-threading, the overhead of testing was 0.145428 seconds.\n",
            "You can set `force_col_wise=true` to remove the overhead.\n",
            "[LightGBM] [Info] Total Bins 54077\n",
            "[LightGBM] [Info] Number of data points in the train set: 67844, number of used features: 487\n",
            "[LightGBM] [Info] [binary:BoostFromScore]: pavg=0.500000 -> initscore=0.000000\n"
          ]
        }
      ]
    },
    {
      "cell_type": "code",
      "source": [
        "sample_train_results = add_model_result(sample_train_results, 'LGBM', y_test_sample, lgbm.predict(X_test_sample))"
      ],
      "metadata": {
        "id": "UYWZg1jXXrEZ"
      },
      "id": "UYWZg1jXXrEZ",
      "execution_count": 169,
      "outputs": []
    },
    {
      "cell_type": "code",
      "source": [
        "knn_model_path = os.path.join(model_save_path, 'knn.pkl')\n",
        "\n",
        "if not os.path.exists(knn_model_path):\n",
        "    knn = KNeighborsClassifier(n_jobs=-1)\n",
        "    knn.fit(X_train_sample, y_train_sample)\n",
        "    joblib.dump(knn, knn_model_path)\n",
        "else:\n",
        "    knn = joblib.load(knn_model_path)"
      ],
      "metadata": {
        "id": "LzORkDRsYsY2"
      },
      "id": "LzORkDRsYsY2",
      "execution_count": 170,
      "outputs": []
    },
    {
      "cell_type": "code",
      "source": [
        "sample_train_results = add_model_result(sample_train_results, 'K-Nearest Neighbors', y_test_sample, knn.predict(X_test_sample))"
      ],
      "metadata": {
        "id": "zv83D2nrZ0Hd"
      },
      "id": "zv83D2nrZ0Hd",
      "execution_count": 171,
      "outputs": []
    },
    {
      "cell_type": "markdown",
      "source": [
        "Select the best models based on the F1-score for further training on the complete dataset including cross validation and tuning."
      ],
      "metadata": {
        "id": "_AGh6RbveACA"
      },
      "id": "_AGh6RbveACA"
    },
    {
      "cell_type": "code",
      "source": [
        "sample_train_results.sort_values(by='F1-score', ascending=False)"
      ],
      "metadata": {
        "colab": {
          "base_uri": "https://localhost:8080/",
          "height": 206
        },
        "id": "ov3b6Mnyd8F4",
        "outputId": "c7e58a06-a4e8-4392-99e0-c2964d9583d1"
      },
      "id": "ov3b6Mnyd8F4",
      "execution_count": 172,
      "outputs": [
        {
          "output_type": "execute_result",
          "data": {
            "text/plain": [
              "  (model,) (F1-score,)                   model  F1-score\n",
              "3      NaN         NaN                    LGBM  0.953100\n",
              "2      NaN         NaN                 XGBoost  0.952100\n",
              "1      NaN         NaN  Balanced Random Forest  0.945800\n",
              "4      NaN         NaN     K-Nearest Neighbors  0.749900\n",
              "0      NaN         NaN     Logistic Regression  0.595712"
            ],
            "text/html": [
              "\n",
              "  <div id=\"df-3cdb9160-0b2a-4cd4-b72e-cc3b0d9b898c\" class=\"colab-df-container\">\n",
              "    <div>\n",
              "<style scoped>\n",
              "    .dataframe tbody tr th:only-of-type {\n",
              "        vertical-align: middle;\n",
              "    }\n",
              "\n",
              "    .dataframe tbody tr th {\n",
              "        vertical-align: top;\n",
              "    }\n",
              "\n",
              "    .dataframe thead th {\n",
              "        text-align: right;\n",
              "    }\n",
              "</style>\n",
              "<table border=\"1\" class=\"dataframe\">\n",
              "  <thead>\n",
              "    <tr style=\"text-align: right;\">\n",
              "      <th></th>\n",
              "      <th>(model,)</th>\n",
              "      <th>(F1-score,)</th>\n",
              "      <th>model</th>\n",
              "      <th>F1-score</th>\n",
              "    </tr>\n",
              "  </thead>\n",
              "  <tbody>\n",
              "    <tr>\n",
              "      <th>3</th>\n",
              "      <td>NaN</td>\n",
              "      <td>NaN</td>\n",
              "      <td>LGBM</td>\n",
              "      <td>0.953100</td>\n",
              "    </tr>\n",
              "    <tr>\n",
              "      <th>2</th>\n",
              "      <td>NaN</td>\n",
              "      <td>NaN</td>\n",
              "      <td>XGBoost</td>\n",
              "      <td>0.952100</td>\n",
              "    </tr>\n",
              "    <tr>\n",
              "      <th>1</th>\n",
              "      <td>NaN</td>\n",
              "      <td>NaN</td>\n",
              "      <td>Balanced Random Forest</td>\n",
              "      <td>0.945800</td>\n",
              "    </tr>\n",
              "    <tr>\n",
              "      <th>4</th>\n",
              "      <td>NaN</td>\n",
              "      <td>NaN</td>\n",
              "      <td>K-Nearest Neighbors</td>\n",
              "      <td>0.749900</td>\n",
              "    </tr>\n",
              "    <tr>\n",
              "      <th>0</th>\n",
              "      <td>NaN</td>\n",
              "      <td>NaN</td>\n",
              "      <td>Logistic Regression</td>\n",
              "      <td>0.595712</td>\n",
              "    </tr>\n",
              "  </tbody>\n",
              "</table>\n",
              "</div>\n",
              "    <div class=\"colab-df-buttons\">\n",
              "\n",
              "  <div class=\"colab-df-container\">\n",
              "    <button class=\"colab-df-convert\" onclick=\"convertToInteractive('df-3cdb9160-0b2a-4cd4-b72e-cc3b0d9b898c')\"\n",
              "            title=\"Convert this dataframe to an interactive table.\"\n",
              "            style=\"display:none;\">\n",
              "\n",
              "  <svg xmlns=\"http://www.w3.org/2000/svg\" height=\"24px\" viewBox=\"0 -960 960 960\">\n",
              "    <path d=\"M120-120v-720h720v720H120Zm60-500h600v-160H180v160Zm220 220h160v-160H400v160Zm0 220h160v-160H400v160ZM180-400h160v-160H180v160Zm440 0h160v-160H620v160ZM180-180h160v-160H180v160Zm440 0h160v-160H620v160Z\"/>\n",
              "  </svg>\n",
              "    </button>\n",
              "\n",
              "  <style>\n",
              "    .colab-df-container {\n",
              "      display:flex;\n",
              "      gap: 12px;\n",
              "    }\n",
              "\n",
              "    .colab-df-convert {\n",
              "      background-color: #E8F0FE;\n",
              "      border: none;\n",
              "      border-radius: 50%;\n",
              "      cursor: pointer;\n",
              "      display: none;\n",
              "      fill: #1967D2;\n",
              "      height: 32px;\n",
              "      padding: 0 0 0 0;\n",
              "      width: 32px;\n",
              "    }\n",
              "\n",
              "    .colab-df-convert:hover {\n",
              "      background-color: #E2EBFA;\n",
              "      box-shadow: 0px 1px 2px rgba(60, 64, 67, 0.3), 0px 1px 3px 1px rgba(60, 64, 67, 0.15);\n",
              "      fill: #174EA6;\n",
              "    }\n",
              "\n",
              "    .colab-df-buttons div {\n",
              "      margin-bottom: 4px;\n",
              "    }\n",
              "\n",
              "    [theme=dark] .colab-df-convert {\n",
              "      background-color: #3B4455;\n",
              "      fill: #D2E3FC;\n",
              "    }\n",
              "\n",
              "    [theme=dark] .colab-df-convert:hover {\n",
              "      background-color: #434B5C;\n",
              "      box-shadow: 0px 1px 3px 1px rgba(0, 0, 0, 0.15);\n",
              "      filter: drop-shadow(0px 1px 2px rgba(0, 0, 0, 0.3));\n",
              "      fill: #FFFFFF;\n",
              "    }\n",
              "  </style>\n",
              "\n",
              "    <script>\n",
              "      const buttonEl =\n",
              "        document.querySelector('#df-3cdb9160-0b2a-4cd4-b72e-cc3b0d9b898c button.colab-df-convert');\n",
              "      buttonEl.style.display =\n",
              "        google.colab.kernel.accessAllowed ? 'block' : 'none';\n",
              "\n",
              "      async function convertToInteractive(key) {\n",
              "        const element = document.querySelector('#df-3cdb9160-0b2a-4cd4-b72e-cc3b0d9b898c');\n",
              "        const dataTable =\n",
              "          await google.colab.kernel.invokeFunction('convertToInteractive',\n",
              "                                                    [key], {});\n",
              "        if (!dataTable) return;\n",
              "\n",
              "        const docLinkHtml = 'Like what you see? Visit the ' +\n",
              "          '<a target=\"_blank\" href=https://colab.research.google.com/notebooks/data_table.ipynb>data table notebook</a>'\n",
              "          + ' to learn more about interactive tables.';\n",
              "        element.innerHTML = '';\n",
              "        dataTable['output_type'] = 'display_data';\n",
              "        await google.colab.output.renderOutput(dataTable, element);\n",
              "        const docLink = document.createElement('div');\n",
              "        docLink.innerHTML = docLinkHtml;\n",
              "        element.appendChild(docLink);\n",
              "      }\n",
              "    </script>\n",
              "  </div>\n",
              "\n",
              "\n",
              "    <div id=\"df-89875524-995a-410c-94c4-68a6c791a5c4\">\n",
              "      <button class=\"colab-df-quickchart\" onclick=\"quickchart('df-89875524-995a-410c-94c4-68a6c791a5c4')\"\n",
              "                title=\"Suggest charts\"\n",
              "                style=\"display:none;\">\n",
              "\n",
              "<svg xmlns=\"http://www.w3.org/2000/svg\" height=\"24px\"viewBox=\"0 0 24 24\"\n",
              "     width=\"24px\">\n",
              "    <g>\n",
              "        <path d=\"M19 3H5c-1.1 0-2 .9-2 2v14c0 1.1.9 2 2 2h14c1.1 0 2-.9 2-2V5c0-1.1-.9-2-2-2zM9 17H7v-7h2v7zm4 0h-2V7h2v10zm4 0h-2v-4h2v4z\"/>\n",
              "    </g>\n",
              "</svg>\n",
              "      </button>\n",
              "\n",
              "<style>\n",
              "  .colab-df-quickchart {\n",
              "      --bg-color: #E8F0FE;\n",
              "      --fill-color: #1967D2;\n",
              "      --hover-bg-color: #E2EBFA;\n",
              "      --hover-fill-color: #174EA6;\n",
              "      --disabled-fill-color: #AAA;\n",
              "      --disabled-bg-color: #DDD;\n",
              "  }\n",
              "\n",
              "  [theme=dark] .colab-df-quickchart {\n",
              "      --bg-color: #3B4455;\n",
              "      --fill-color: #D2E3FC;\n",
              "      --hover-bg-color: #434B5C;\n",
              "      --hover-fill-color: #FFFFFF;\n",
              "      --disabled-bg-color: #3B4455;\n",
              "      --disabled-fill-color: #666;\n",
              "  }\n",
              "\n",
              "  .colab-df-quickchart {\n",
              "    background-color: var(--bg-color);\n",
              "    border: none;\n",
              "    border-radius: 50%;\n",
              "    cursor: pointer;\n",
              "    display: none;\n",
              "    fill: var(--fill-color);\n",
              "    height: 32px;\n",
              "    padding: 0;\n",
              "    width: 32px;\n",
              "  }\n",
              "\n",
              "  .colab-df-quickchart:hover {\n",
              "    background-color: var(--hover-bg-color);\n",
              "    box-shadow: 0 1px 2px rgba(60, 64, 67, 0.3), 0 1px 3px 1px rgba(60, 64, 67, 0.15);\n",
              "    fill: var(--button-hover-fill-color);\n",
              "  }\n",
              "\n",
              "  .colab-df-quickchart-complete:disabled,\n",
              "  .colab-df-quickchart-complete:disabled:hover {\n",
              "    background-color: var(--disabled-bg-color);\n",
              "    fill: var(--disabled-fill-color);\n",
              "    box-shadow: none;\n",
              "  }\n",
              "\n",
              "  .colab-df-spinner {\n",
              "    border: 2px solid var(--fill-color);\n",
              "    border-color: transparent;\n",
              "    border-bottom-color: var(--fill-color);\n",
              "    animation:\n",
              "      spin 1s steps(1) infinite;\n",
              "  }\n",
              "\n",
              "  @keyframes spin {\n",
              "    0% {\n",
              "      border-color: transparent;\n",
              "      border-bottom-color: var(--fill-color);\n",
              "      border-left-color: var(--fill-color);\n",
              "    }\n",
              "    20% {\n",
              "      border-color: transparent;\n",
              "      border-left-color: var(--fill-color);\n",
              "      border-top-color: var(--fill-color);\n",
              "    }\n",
              "    30% {\n",
              "      border-color: transparent;\n",
              "      border-left-color: var(--fill-color);\n",
              "      border-top-color: var(--fill-color);\n",
              "      border-right-color: var(--fill-color);\n",
              "    }\n",
              "    40% {\n",
              "      border-color: transparent;\n",
              "      border-right-color: var(--fill-color);\n",
              "      border-top-color: var(--fill-color);\n",
              "    }\n",
              "    60% {\n",
              "      border-color: transparent;\n",
              "      border-right-color: var(--fill-color);\n",
              "    }\n",
              "    80% {\n",
              "      border-color: transparent;\n",
              "      border-right-color: var(--fill-color);\n",
              "      border-bottom-color: var(--fill-color);\n",
              "    }\n",
              "    90% {\n",
              "      border-color: transparent;\n",
              "      border-bottom-color: var(--fill-color);\n",
              "    }\n",
              "  }\n",
              "</style>\n",
              "\n",
              "      <script>\n",
              "        async function quickchart(key) {\n",
              "          const quickchartButtonEl =\n",
              "            document.querySelector('#' + key + ' button');\n",
              "          quickchartButtonEl.disabled = true;  // To prevent multiple clicks.\n",
              "          quickchartButtonEl.classList.add('colab-df-spinner');\n",
              "          try {\n",
              "            const charts = await google.colab.kernel.invokeFunction(\n",
              "                'suggestCharts', [key], {});\n",
              "          } catch (error) {\n",
              "            console.error('Error during call to suggestCharts:', error);\n",
              "          }\n",
              "          quickchartButtonEl.classList.remove('colab-df-spinner');\n",
              "          quickchartButtonEl.classList.add('colab-df-quickchart-complete');\n",
              "        }\n",
              "        (() => {\n",
              "          let quickchartButtonEl =\n",
              "            document.querySelector('#df-89875524-995a-410c-94c4-68a6c791a5c4 button');\n",
              "          quickchartButtonEl.style.display =\n",
              "            google.colab.kernel.accessAllowed ? 'block' : 'none';\n",
              "        })();\n",
              "      </script>\n",
              "    </div>\n",
              "\n",
              "    </div>\n",
              "  </div>\n"
            ],
            "application/vnd.google.colaboratory.intrinsic+json": {
              "type": "dataframe",
              "repr_error": "Out of range float values are not JSON compliant: nan"
            }
          },
          "metadata": {},
          "execution_count": 172
        }
      ]
    },
    {
      "cell_type": "markdown",
      "source": [
        "The best performing models were:\n",
        "- Balanced Random Forest\n",
        "- XGBoost\n",
        "- LGBM\n",
        "\n",
        "I will use these type of models for Hyperparameter Tuning using CV."
      ],
      "metadata": {
        "id": "xVwgtZEBeK-D"
      },
      "id": "xVwgtZEBeK-D"
    },
    {
      "cell_type": "code",
      "source": [
        "models = {\n",
        "    'Balanced Random Forest': BalancedRandomForestClassifier(random_state=42, n_jobs=-1),\n",
        "    'XGBoost': XGBClassifier(use_label_encoder=False, eval_metric='f1', random_state=42, n_jobs=-1),\n",
        "    'LGBM': LGBMClassifier(objective='binary', metric='f1', random_state=42, n_jobs=-1),\n",
        "}\n",
        "\n",
        "param_grids = {\n",
        "    'Balanced Random Forest': {\n",
        "        'n_estimators': [100, 200],\n",
        "        'max_depth': [None, 10, 20],\n",
        "        'min_samples_split': [2, 5],\n",
        "        'min_samples_leaf': [1, 2]\n",
        "    },\n",
        "    'XGBoost': {\n",
        "        'n_estimators': [100, 200],\n",
        "        'max_depth': [3, 6, 10],\n",
        "        'learning_rate': [0.01, 0.1, 0.2],\n",
        "        'subsample': [0.8, 1.0],\n",
        "        'colsample_bytree': [0.8, 1.0]\n",
        "    },\n",
        "    'LGBM': {\n",
        "        'n_estimators': [100, 200],\n",
        "        'max_depth': [-1, 10, 20],\n",
        "        'learning_rate': [0.01, 0.1, 0.2],\n",
        "        'num_leaves': [31, 50, 100],\n",
        "        'subsample': [0.8, 1.0]\n",
        "    },\n",
        "}\n",
        "\n"
      ],
      "metadata": {
        "id": "-MVHhU1Ad8va"
      },
      "id": "-MVHhU1Ad8va",
      "execution_count": 173,
      "outputs": []
    },
    {
      "cell_type": "code",
      "source": [
        "from sklearn.model_selection import RandomizedSearchCV, train_test_split\n",
        "import optuna\n",
        "from sklearn.metrics import (\n",
        "    f1_score, precision_score, recall_score, confusion_matrix,\n",
        "    precision_recall_curve, roc_curve, auc\n",
        ")\n",
        "import matplotlib.pyplot as plt\n",
        "import seaborn as sns\n",
        "import pandas as pd\n",
        "import os\n",
        "import pickle\n",
        "\n",
        "def tune_and_evaluate_models(models, param_grids, X_train, y_train, X_test, y_test, model_save_path, scoring='f1', n_trials=30):\n",
        "    best_models = {}\n",
        "    results = []\n",
        "\n",
        "    X_train_sub, X_val, y_train_sub, y_val = train_test_split(\n",
        "        X_train, y_train, test_size=0.2, stratify=y_train, random_state=42\n",
        "    )\n",
        "\n",
        "    for name, base_model in models.items():\n",
        "        file_name = f'{name.replace(\" \", \"_\").lower()}_model_optuned.pkl'\n",
        "        full_path = os.path.join(model_save_path, file_name)\n",
        "\n",
        "        if os.path.exists(full_path):\n",
        "            print(f\"📦 Loading {name} from saved model at {full_path}\")\n",
        "            with open(full_path, 'rb') as f:\n",
        "                best_model = pickle.load(f)\n",
        "        else:\n",
        "            print(f\"🔍 Tuning {name}...\")\n",
        "\n",
        "            if name == 'Gradient Boosting':\n",
        "                grid = RandomizedSearchCV(\n",
        "                base_model,\n",
        "                param_distributions=param_grids[name],\n",
        "                n_iter=10,\n",
        "                scoring=scoring,\n",
        "                cv=3,\n",
        "                n_jobs=-1,\n",
        "                random_state=42\n",
        "            )\n",
        "                grid.fit(X_train, y_train)\n",
        "                best_model = grid.best_estimator_\n",
        "                print(f\"✅ GridSearch best params for {name}: {grid.best_params_}\")\n",
        "\n",
        "            else:\n",
        "                def objective(trial):\n",
        "                    params = {\n",
        "                        key: trial.suggest_categorical(key, values)\n",
        "                        for key, values in param_grids[name].items()\n",
        "                    }\n",
        "                    model = base_model.__class__(**params)\n",
        "\n",
        "                    model.set_params(random_state=42)\n",
        "                    if hasattr(model, 'n_jobs'):\n",
        "                        model.set_params(n_jobs=-1)\n",
        "\n",
        "                    if name == 'LGBM':\n",
        "                        model.set_params(objective='binary', metric='f1')\n",
        "                        model.fit(X_train_sub, y_train_sub,\n",
        "                                  eval_set=[(X_val, y_val)])\n",
        "                        preds = model.predict(X_val)\n",
        "                    else:\n",
        "                        model.fit(X_train_sub, y_train_sub)\n",
        "                        preds = model.predict(X_val)\n",
        "\n",
        "                    return f1_score(y_val, preds)\n",
        "\n",
        "                study = optuna.create_study(direction='maximize')\n",
        "                study.optimize(objective, n_trials=n_trials)\n",
        "\n",
        "                best_params = study.best_params\n",
        "                print(f\"✅ Optuna best params for {name}: {best_params}\")\n",
        "\n",
        "                best_model = base_model.__class__(**best_params)\n",
        "                best_model.set_params(random_state=42)\n",
        "                if hasattr(best_model, 'n_jobs'):\n",
        "                    best_model.set_params(n_jobs=-1)\n",
        "\n",
        "                if name == 'LGBM':\n",
        "                    best_model.set_params(objective='binary', metric='f1')\n",
        "                    best_model.fit(X_train_sub, y_train_sub,\n",
        "                                   eval_set=[(X_val, y_val)],\n",
        "                                   )\n",
        "                else:\n",
        "                    best_model.fit(X_train, y_train)\n",
        "\n",
        "            with open(full_path, 'wb') as f:\n",
        "                pickle.dump(best_model, f)\n",
        "            print(f\"💾 Saved {name} model to {full_path}\")\n",
        "\n",
        "        best_models[name] = best_model\n",
        "        y_pred = best_model.predict(X_test)\n",
        "        y_scores = best_model.predict_proba(X_test)[:, 1]\n",
        "\n",
        "        f1 = f1_score(y_test, y_pred)\n",
        "        precision = precision_score(y_test, y_pred)\n",
        "        recall = recall_score(y_test, y_pred)\n",
        "\n",
        "        results.append({\n",
        "            'Model': name,\n",
        "            'F1 Score': round(f1, 4),\n",
        "            'Precision': round(precision, 4),\n",
        "            'Recall': round(recall, 4)\n",
        "        })\n",
        "\n",
        "        cm = confusion_matrix(y_test, y_pred)\n",
        "        plt.figure(figsize=(4, 3))\n",
        "        sns.heatmap(cm, annot=True, fmt='d', cmap='Blues')\n",
        "        plt.title(f'{name} - Confusion Matrix')\n",
        "        plt.xlabel('Predicted')\n",
        "        plt.ylabel('Actual')\n",
        "        plt.tight_layout()\n",
        "        plt.show()\n",
        "\n",
        "        print()\n",
        "\n",
        "        fpr, tpr, _ = roc_curve(y_test, y_scores)\n",
        "        roc_auc = auc(fpr, tpr)\n",
        "\n",
        "        plt.figure(figsize=(5, 4))\n",
        "        plt.plot(fpr, tpr, label=f'AUC = {roc_auc:.4f}')\n",
        "        plt.plot([0, 1], [0, 1], linestyle='--', color='gray', label='Random')\n",
        "        plt.title(f'{name} - ROC Curve')\n",
        "        plt.xlabel('False Positive Rate')\n",
        "        plt.ylabel('True Positive Rate')\n",
        "        plt.legend()\n",
        "        plt.tight_layout()\n",
        "        plt.show()\n",
        "\n",
        "        print()\n",
        "\n",
        "        precision_vals, recall_vals, _ = precision_recall_curve(y_test, y_scores)\n",
        "        pr_auc = auc(recall_vals, precision_vals)\n",
        "\n",
        "        plt.figure(figsize=(5, 4))\n",
        "        plt.plot(recall_vals, precision_vals, label=f'AUC = {pr_auc:.4f}')\n",
        "        plt.title(f'{name} - Precision-Recall Curve')\n",
        "        plt.xlabel('Recall')\n",
        "        plt.ylabel('Precision')\n",
        "        plt.legend()\n",
        "        plt.tight_layout()\n",
        "        plt.show()\n",
        "\n",
        "        print()\n",
        "\n",
        "    results_df = pd.DataFrame(results).sort_values(by='F1 Score', ascending=False).reset_index(drop=True)\n",
        "    return best_models, results_df\n"
      ],
      "metadata": {
        "id": "GmftR1zGew7t"
      },
      "id": "GmftR1zGew7t",
      "execution_count": 177,
      "outputs": []
    },
    {
      "cell_type": "markdown",
      "source": [
        "Splitting the SMOTE-compensated dataset to get training and testing set."
      ],
      "metadata": {
        "id": "H7-BBJ_CfOgQ"
      },
      "id": "H7-BBJ_CfOgQ"
    },
    {
      "cell_type": "code",
      "source": [
        "X_train, X_test, y_train, y_test = train_test_split(X_res, y_res, test_size=0.2, random_state=42)"
      ],
      "metadata": {
        "id": "ekaT_PUHfG1L"
      },
      "id": "ekaT_PUHfG1L",
      "execution_count": 175,
      "outputs": []
    },
    {
      "cell_type": "code",
      "source": [
        "best_models, results_df = tune_and_evaluate_models(models, param_grids, X_train, y_train, X_test, y_test, model_save_path)"
      ],
      "metadata": {
        "colab": {
          "base_uri": "https://localhost:8080/",
          "height": 1000
        },
        "id": "_pOA_iFVfDkZ",
        "outputId": "9a0abd99-f99b-4ca4-cd93-4f9892936e97"
      },
      "id": "_pOA_iFVfDkZ",
      "execution_count": 178,
      "outputs": [
        {
          "output_type": "stream",
          "name": "stdout",
          "text": [
            "📦 Loading Balanced Random Forest from saved model at /content/drive/My Drive/Turing/ML Capstone project/trained_models/balanced_random_forest_model_optuned.pkl\n"
          ]
        },
        {
          "output_type": "display_data",
          "data": {
            "text/plain": [
              "<Figure size 400x300 with 2 Axes>"
            ],
            "image/png": "[encoded data removed]"
          },
          "metadata": {}
        },
        {
          "output_type": "stream",
          "name": "stdout",
          "text": [
            "\n"
          ]
        },
        {
          "output_type": "display_data",
          "data": {
            "text/plain": [
              "<Figure size 500x400 with 1 Axes>"
            ],
            "image/png": "[encoded data removed]"
          },
          "metadata": {}
        },
        {
          "output_type": "stream",
          "name": "stdout",
          "text": [
            "\n"
          ]
        },
        {
          "output_type": "display_data",
          "data": {
            "text/plain": [
              "<Figure size 500x400 with 1 Axes>"
            ],
            "image/png": "[encoded data removed]"
          },
          "metadata": {}
        },
        {
          "output_type": "stream",
          "name": "stdout",
          "text": [
            "\n",
            "📦 Loading XGBoost from saved model at /content/drive/My Drive/Turing/ML Capstone project/trained_models/xgboost_model_optuned.pkl\n"
          ]
        },
        {
          "output_type": "display_data",
          "data": {
            "text/plain": [
              "<Figure size 400x300 with 2 Axes>"
            ],
            "image/png": "[encoded data removed]"
          },
          "metadata": {}
        },
        {
          "output_type": "stream",
          "name": "stdout",
          "text": [
            "\n"
          ]
        },
        {
          "output_type": "display_data",
          "data": {
            "text/plain": [
              "<Figure size 500x400 with 1 Axes>"
            ],
            "image/png": "[encoded data removed]"
          },
          "metadata": {}
        },
        {
          "output_type": "stream",
          "name": "stdout",
          "text": [
            "\n"
          ]
        },
        {
          "output_type": "display_data",
          "data": {
            "text/plain": [
              "<Figure size 500x400 with 1 Axes>"
            ],
            "image/png": "[encoded data removed]"
          },
          "metadata": {}
        },
        {
          "output_type": "stream",
          "name": "stderr",
          "text": [
            "[I 2025-05-17 14:10:49,455] A new study created in memory with name: no-name-9de28ad7-d680-471c-905a-bae590760efa\n"
          ]
        },
        {
          "output_type": "stream",
          "name": "stdout",
          "text": [
            "\n",
            "🔍 Tuning LGBM...\n",
            "[LightGBM] [Info] Number of positive: 144699, number of negative: 144769\n",
            "[LightGBM] [Info] Auto-choosing row-wise multi-threading, the overhead of testing was 0.321990 seconds.\n",
            "You can set `force_row_wise=true` to remove the overhead.\n",
            "And if memory is not enough, you can set `force_col_wise=true`.\n",
            "[LightGBM] [Info] Total Bins 55279\n",
            "[LightGBM] [Info] Number of data points in the train set: 289468, number of used features: 495\n",
            "[LightGBM] [Info] [binary:BoostFromScore]: pavg=0.499879 -> initscore=-0.000484\n",
            "[LightGBM] [Info] Start training from score -0.000484\n"
          ]
        },
        {
          "output_type": "stream",
          "name": "stderr",
          "text": [
            "[I 2025-05-17 14:11:07,330] Trial 0 finished with value: 0.9529877040339397 and parameters: {'n_estimators': 200, 'max_depth': 20, 'learning_rate': 0.2, 'num_leaves': 31, 'subsample': 1.0}. Best is trial 0 with value: 0.9529877040339397.\n"
          ]
        },
        {
          "output_type": "stream",
          "name": "stdout",
          "text": [
            "[LightGBM] [Info] Number of positive: 144699, number of negative: 144769\n",
            "[LightGBM] [Info] Auto-choosing col-wise multi-threading, the overhead of testing was 0.673120 seconds.\n",
            "You can set `force_col_wise=true` to remove the overhead.\n",
            "[LightGBM] [Info] Total Bins 55279\n",
            "[LightGBM] [Info] Number of data points in the train set: 289468, number of used features: 495\n",
            "[LightGBM] [Info] [binary:BoostFromScore]: pavg=0.499879 -> initscore=-0.000484\n",
            "[LightGBM] [Info] Start training from score -0.000484\n"
          ]
        },
        {
          "output_type": "stream",
          "name": "stderr",
          "text": [
            "[I 2025-05-17 14:11:24,097] Trial 1 finished with value: 0.9530066270862384 and parameters: {'n_estimators': 100, 'max_depth': -1, 'learning_rate': 0.2, 'num_leaves': 100, 'subsample': 0.8}. Best is trial 1 with value: 0.9530066270862384.\n"
          ]
        },
        {
          "output_type": "stream",
          "name": "stdout",
          "text": [
            "[LightGBM] [Info] Number of positive: 144699, number of negative: 144769\n",
            "[LightGBM] [Info] Auto-choosing col-wise multi-threading, the overhead of testing was 0.686423 seconds.\n",
            "You can set `force_col_wise=true` to remove the overhead.\n",
            "[LightGBM] [Info] Total Bins 55279\n",
            "[LightGBM] [Info] Number of data points in the train set: 289468, number of used features: 495\n",
            "[LightGBM] [Info] [binary:BoostFromScore]: pavg=0.499879 -> initscore=-0.000484\n",
            "[LightGBM] [Info] Start training from score -0.000484\n"
          ]
        },
        {
          "output_type": "stream",
          "name": "stderr",
          "text": [
            "[I 2025-05-17 14:11:45,173] Trial 2 finished with value: 0.9273149586495643 and parameters: {'n_estimators': 100, 'max_depth': 20, 'learning_rate': 0.01, 'num_leaves': 100, 'subsample': 1.0}. Best is trial 1 with value: 0.9530066270862384.\n"
          ]
        },
        {
          "output_type": "stream",
          "name": "stdout",
          "text": [
            "[LightGBM] [Info] Number of positive: 144699, number of negative: 144769\n",
            "[LightGBM] [Info] Auto-choosing row-wise multi-threading, the overhead of testing was 0.235223 seconds.\n",
            "You can set `force_row_wise=true` to remove the overhead.\n",
            "And if memory is not enough, you can set `force_col_wise=true`.\n",
            "[LightGBM] [Info] Total Bins 55279\n",
            "[LightGBM] [Info] Number of data points in the train set: 289468, number of used features: 495\n",
            "[LightGBM] [Info] [binary:BoostFromScore]: pavg=0.499879 -> initscore=-0.000484\n",
            "[LightGBM] [Info] Start training from score -0.000484\n"
          ]
        },
        {
          "output_type": "stream",
          "name": "stderr",
          "text": [
            "[I 2025-05-17 14:12:00,408] Trial 3 finished with value: 0.9533372711163615 and parameters: {'n_estimators': 100, 'max_depth': -1, 'learning_rate': 0.2, 'num_leaves': 31, 'subsample': 0.8}. Best is trial 3 with value: 0.9533372711163615.\n"
          ]
        },
        {
          "output_type": "stream",
          "name": "stdout",
          "text": [
            "[LightGBM] [Info] Number of positive: 144699, number of negative: 144769\n",
            "[LightGBM] [Info] Auto-choosing col-wise multi-threading, the overhead of testing was 0.920830 seconds.\n",
            "You can set `force_col_wise=true` to remove the overhead.\n",
            "[LightGBM] [Info] Total Bins 55279\n",
            "[LightGBM] [Info] Number of data points in the train set: 289468, number of used features: 495\n",
            "[LightGBM] [Info] [binary:BoostFromScore]: pavg=0.499879 -> initscore=-0.000484\n",
            "[LightGBM] [Info] Start training from score -0.000484\n"
          ]
        },
        {
          "output_type": "stream",
          "name": "stderr",
          "text": [
            "[I 2025-05-17 14:12:15,696] Trial 4 finished with value: 0.9529926839103635 and parameters: {'n_estimators': 100, 'max_depth': 10, 'learning_rate': 0.2, 'num_leaves': 31, 'subsample': 0.8}. Best is trial 3 with value: 0.9533372711163615.\n"
          ]
        },
        {
          "output_type": "stream",
          "name": "stdout",
          "text": [
            "[LightGBM] [Info] Number of positive: 144699, number of negative: 144769\n",
            "[LightGBM] [Info] Auto-choosing col-wise multi-threading, the overhead of testing was 0.735084 seconds.\n",
            "You can set `force_col_wise=true` to remove the overhead.\n",
            "[LightGBM] [Info] Total Bins 55279\n",
            "[LightGBM] [Info] Number of data points in the train set: 289468, number of used features: 495\n",
            "[LightGBM] [Info] [binary:BoostFromScore]: pavg=0.499879 -> initscore=-0.000484\n",
            "[LightGBM] [Info] Start training from score -0.000484\n"
          ]
        },
        {
          "output_type": "stream",
          "name": "stderr",
          "text": [
            "[I 2025-05-17 14:12:53,768] Trial 5 finished with value: 0.943263964950712 and parameters: {'n_estimators': 200, 'max_depth': -1, 'learning_rate': 0.01, 'num_leaves': 100, 'subsample': 1.0}. Best is trial 3 with value: 0.9533372711163615.\n"
          ]
        },
        {
          "output_type": "stream",
          "name": "stdout",
          "text": [
            "[LightGBM] [Info] Number of positive: 144699, number of negative: 144769\n",
            "[LightGBM] [Info] Auto-choosing col-wise multi-threading, the overhead of testing was 0.709791 seconds.\n",
            "You can set `force_col_wise=true` to remove the overhead.\n",
            "[LightGBM] [Info] Total Bins 55279\n",
            "[LightGBM] [Info] Number of data points in the train set: 289468, number of used features: 495\n",
            "[LightGBM] [Info] [binary:BoostFromScore]: pavg=0.499879 -> initscore=-0.000484\n",
            "[LightGBM] [Info] Start training from score -0.000484\n"
          ]
        },
        {
          "output_type": "stream",
          "name": "stderr",
          "text": [
            "[I 2025-05-17 14:13:11,393] Trial 6 finished with value: 0.953126123664188 and parameters: {'n_estimators': 200, 'max_depth': 10, 'learning_rate': 0.2, 'num_leaves': 31, 'subsample': 1.0}. Best is trial 3 with value: 0.9533372711163615.\n"
          ]
        },
        {
          "output_type": "stream",
          "name": "stdout",
          "text": [
            "[LightGBM] [Info] Number of positive: 144699, number of negative: 144769\n",
            "[LightGBM] [Info] Auto-choosing col-wise multi-threading, the overhead of testing was 0.706754 seconds.\n",
            "You can set `force_col_wise=true` to remove the overhead.\n",
            "[LightGBM] [Info] Total Bins 55279\n",
            "[LightGBM] [Info] Number of data points in the train set: 289468, number of used features: 495\n",
            "[LightGBM] [Info] [binary:BoostFromScore]: pavg=0.499879 -> initscore=-0.000484\n",
            "[LightGBM] [Info] Start training from score -0.000484\n"
          ]
        },
        {
          "output_type": "stream",
          "name": "stderr",
          "text": [
            "[I 2025-05-17 14:13:25,510] Trial 7 finished with value: 0.9533039647577093 and parameters: {'n_estimators': 100, 'max_depth': 10, 'learning_rate': 0.1, 'num_leaves': 31, 'subsample': 0.8}. Best is trial 3 with value: 0.9533372711163615.\n"
          ]
        },
        {
          "output_type": "stream",
          "name": "stdout",
          "text": [
            "[LightGBM] [Info] Number of positive: 144699, number of negative: 144769\n",
            "[LightGBM] [Info] Auto-choosing col-wise multi-threading, the overhead of testing was 0.738012 seconds.\n",
            "You can set `force_col_wise=true` to remove the overhead.\n",
            "[LightGBM] [Info] Total Bins 55279\n",
            "[LightGBM] [Info] Number of data points in the train set: 289468, number of used features: 495\n",
            "[LightGBM] [Info] [binary:BoostFromScore]: pavg=0.499879 -> initscore=-0.000484\n",
            "[LightGBM] [Info] Start training from score -0.000484\n"
          ]
        },
        {
          "output_type": "stream",
          "name": "stderr",
          "text": [
            "[I 2025-05-17 14:13:39,343] Trial 8 finished with value: 0.9532505056342098 and parameters: {'n_estimators': 100, 'max_depth': 20, 'learning_rate': 0.1, 'num_leaves': 31, 'subsample': 1.0}. Best is trial 3 with value: 0.9533372711163615.\n"
          ]
        },
        {
          "output_type": "stream",
          "name": "stdout",
          "text": [
            "[LightGBM] [Info] Number of positive: 144699, number of negative: 144769\n",
            "[LightGBM] [Info] Auto-choosing row-wise multi-threading, the overhead of testing was 0.208022 seconds.\n",
            "You can set `force_row_wise=true` to remove the overhead.\n",
            "And if memory is not enough, you can set `force_col_wise=true`.\n",
            "[LightGBM] [Info] Total Bins 55279\n",
            "[LightGBM] [Info] Number of data points in the train set: 289468, number of used features: 495\n",
            "[LightGBM] [Info] [binary:BoostFromScore]: pavg=0.499879 -> initscore=-0.000484\n",
            "[LightGBM] [Info] Start training from score -0.000484\n"
          ]
        },
        {
          "output_type": "stream",
          "name": "stderr",
          "text": [
            "[I 2025-05-17 14:14:02,294] Trial 9 finished with value: 0.9537175792507204 and parameters: {'n_estimators': 200, 'max_depth': 10, 'learning_rate': 0.1, 'num_leaves': 50, 'subsample': 1.0}. Best is trial 9 with value: 0.9537175792507204.\n"
          ]
        },
        {
          "output_type": "stream",
          "name": "stdout",
          "text": [
            "[LightGBM] [Info] Number of positive: 144699, number of negative: 144769\n",
            "[LightGBM] [Info] Auto-choosing col-wise multi-threading, the overhead of testing was 0.720779 seconds.\n",
            "You can set `force_col_wise=true` to remove the overhead.\n",
            "[LightGBM] [Info] Total Bins 55279\n",
            "[LightGBM] [Info] Number of data points in the train set: 289468, number of used features: 495\n",
            "[LightGBM] [Info] [binary:BoostFromScore]: pavg=0.499879 -> initscore=-0.000484\n",
            "[LightGBM] [Info] Start training from score -0.000484\n"
          ]
        },
        {
          "output_type": "stream",
          "name": "stderr",
          "text": [
            "[I 2025-05-17 14:14:25,802] Trial 10 finished with value: 0.9537175792507204 and parameters: {'n_estimators': 200, 'max_depth': 10, 'learning_rate': 0.1, 'num_leaves': 50, 'subsample': 1.0}. Best is trial 9 with value: 0.9537175792507204.\n"
          ]
        },
        {
          "output_type": "stream",
          "name": "stdout",
          "text": [
            "[LightGBM] [Info] Number of positive: 144699, number of negative: 144769\n",
            "[LightGBM] [Info] Auto-choosing col-wise multi-threading, the overhead of testing was 0.702671 seconds.\n",
            "You can set `force_col_wise=true` to remove the overhead.\n",
            "[LightGBM] [Info] Total Bins 55279\n",
            "[LightGBM] [Info] Number of data points in the train set: 289468, number of used features: 495\n",
            "[LightGBM] [Info] [binary:BoostFromScore]: pavg=0.499879 -> initscore=-0.000484\n",
            "[LightGBM] [Info] Start training from score -0.000484\n"
          ]
        },
        {
          "output_type": "stream",
          "name": "stderr",
          "text": [
            "[I 2025-05-17 14:14:47,735] Trial 11 finished with value: 0.9537175792507204 and parameters: {'n_estimators': 200, 'max_depth': 10, 'learning_rate': 0.1, 'num_leaves': 50, 'subsample': 1.0}. Best is trial 9 with value: 0.9537175792507204.\n"
          ]
        },
        {
          "output_type": "stream",
          "name": "stdout",
          "text": [
            "[LightGBM] [Info] Number of positive: 144699, number of negative: 144769\n",
            "[LightGBM] [Info] Auto-choosing col-wise multi-threading, the overhead of testing was 0.708505 seconds.\n",
            "You can set `force_col_wise=true` to remove the overhead.\n",
            "[LightGBM] [Info] Total Bins 55279\n",
            "[LightGBM] [Info] Number of data points in the train set: 289468, number of used features: 495\n",
            "[LightGBM] [Info] [binary:BoostFromScore]: pavg=0.499879 -> initscore=-0.000484\n",
            "[LightGBM] [Info] Start training from score -0.000484\n"
          ]
        },
        {
          "output_type": "stream",
          "name": "stderr",
          "text": [
            "[I 2025-05-17 14:15:09,636] Trial 12 finished with value: 0.9537175792507204 and parameters: {'n_estimators': 200, 'max_depth': 10, 'learning_rate': 0.1, 'num_leaves': 50, 'subsample': 1.0}. Best is trial 9 with value: 0.9537175792507204.\n"
          ]
        },
        {
          "output_type": "stream",
          "name": "stdout",
          "text": [
            "[LightGBM] [Info] Number of positive: 144699, number of negative: 144769\n",
            "[LightGBM] [Info] Auto-choosing row-wise multi-threading, the overhead of testing was 0.351169 seconds.\n",
            "You can set `force_row_wise=true` to remove the overhead.\n",
            "And if memory is not enough, you can set `force_col_wise=true`.\n",
            "[LightGBM] [Info] Total Bins 55279\n",
            "[LightGBM] [Info] Number of data points in the train set: 289468, number of used features: 495\n",
            "[LightGBM] [Info] [binary:BoostFromScore]: pavg=0.499879 -> initscore=-0.000484\n",
            "[LightGBM] [Info] Start training from score -0.000484\n"
          ]
        },
        {
          "output_type": "stream",
          "name": "stderr",
          "text": [
            "[I 2025-05-17 14:15:32,636] Trial 13 finished with value: 0.9537175792507204 and parameters: {'n_estimators': 200, 'max_depth': 10, 'learning_rate': 0.1, 'num_leaves': 50, 'subsample': 1.0}. Best is trial 9 with value: 0.9537175792507204.\n"
          ]
        },
        {
          "output_type": "stream",
          "name": "stdout",
          "text": [
            "[LightGBM] [Info] Number of positive: 144699, number of negative: 144769\n",
            "[LightGBM] [Info] Auto-choosing col-wise multi-threading, the overhead of testing was 0.721594 seconds.\n",
            "You can set `force_col_wise=true` to remove the overhead.\n",
            "[LightGBM] [Info] Total Bins 55279\n",
            "[LightGBM] [Info] Number of data points in the train set: 289468, number of used features: 495\n",
            "[LightGBM] [Info] [binary:BoostFromScore]: pavg=0.499879 -> initscore=-0.000484\n",
            "[LightGBM] [Info] Start training from score -0.000484\n"
          ]
        },
        {
          "output_type": "stream",
          "name": "stderr",
          "text": [
            "[I 2025-05-17 14:15:56,183] Trial 14 finished with value: 0.9537175792507204 and parameters: {'n_estimators': 200, 'max_depth': 10, 'learning_rate': 0.1, 'num_leaves': 50, 'subsample': 1.0}. Best is trial 9 with value: 0.9537175792507204.\n"
          ]
        },
        {
          "output_type": "stream",
          "name": "stdout",
          "text": [
            "[LightGBM] [Info] Number of positive: 144699, number of negative: 144769\n",
            "[LightGBM] [Info] Auto-choosing col-wise multi-threading, the overhead of testing was 0.709777 seconds.\n",
            "You can set `force_col_wise=true` to remove the overhead.\n",
            "[LightGBM] [Info] Total Bins 55279\n",
            "[LightGBM] [Info] Number of data points in the train set: 289468, number of used features: 495\n",
            "[LightGBM] [Info] [binary:BoostFromScore]: pavg=0.499879 -> initscore=-0.000484\n",
            "[LightGBM] [Info] Start training from score -0.000484\n"
          ]
        },
        {
          "output_type": "stream",
          "name": "stderr",
          "text": [
            "[I 2025-05-17 14:16:18,221] Trial 15 finished with value: 0.9537175792507204 and parameters: {'n_estimators': 200, 'max_depth': 10, 'learning_rate': 0.1, 'num_leaves': 50, 'subsample': 1.0}. Best is trial 9 with value: 0.9537175792507204.\n"
          ]
        },
        {
          "output_type": "stream",
          "name": "stdout",
          "text": [
            "[LightGBM] [Info] Number of positive: 144699, number of negative: 144769\n",
            "[LightGBM] [Info] Auto-choosing row-wise multi-threading, the overhead of testing was 0.191531 seconds.\n",
            "You can set `force_row_wise=true` to remove the overhead.\n",
            "And if memory is not enough, you can set `force_col_wise=true`.\n",
            "[LightGBM] [Info] Total Bins 55279\n",
            "[LightGBM] [Info] Number of data points in the train set: 289468, number of used features: 495\n",
            "[LightGBM] [Info] [binary:BoostFromScore]: pavg=0.499879 -> initscore=-0.000484\n",
            "[LightGBM] [Info] Start training from score -0.000484\n"
          ]
        },
        {
          "output_type": "stream",
          "name": "stderr",
          "text": [
            "[I 2025-05-17 14:16:47,146] Trial 16 finished with value: 0.9412556119389889 and parameters: {'n_estimators': 200, 'max_depth': 10, 'learning_rate': 0.01, 'num_leaves': 50, 'subsample': 1.0}. Best is trial 9 with value: 0.9537175792507204.\n"
          ]
        },
        {
          "output_type": "stream",
          "name": "stdout",
          "text": [
            "[LightGBM] [Info] Number of positive: 144699, number of negative: 144769\n",
            "[LightGBM] [Info] Auto-choosing col-wise multi-threading, the overhead of testing was 0.719259 seconds.\n",
            "You can set `force_col_wise=true` to remove the overhead.\n",
            "[LightGBM] [Info] Total Bins 55279\n",
            "[LightGBM] [Info] Number of data points in the train set: 289468, number of used features: 495\n",
            "[LightGBM] [Info] [binary:BoostFromScore]: pavg=0.499879 -> initscore=-0.000484\n",
            "[LightGBM] [Info] Start training from score -0.000484\n"
          ]
        },
        {
          "output_type": "stream",
          "name": "stderr",
          "text": [
            "[I 2025-05-17 14:17:09,179] Trial 17 finished with value: 0.9537175792507204 and parameters: {'n_estimators': 200, 'max_depth': 10, 'learning_rate': 0.1, 'num_leaves': 50, 'subsample': 1.0}. Best is trial 9 with value: 0.9537175792507204.\n"
          ]
        },
        {
          "output_type": "stream",
          "name": "stdout",
          "text": [
            "[LightGBM] [Info] Number of positive: 144699, number of negative: 144769\n",
            "[LightGBM] [Info] Auto-choosing col-wise multi-threading, the overhead of testing was 0.718072 seconds.\n",
            "You can set `force_col_wise=true` to remove the overhead.\n",
            "[LightGBM] [Info] Total Bins 55279\n",
            "[LightGBM] [Info] Number of data points in the train set: 289468, number of used features: 495\n",
            "[LightGBM] [Info] [binary:BoostFromScore]: pavg=0.499879 -> initscore=-0.000484\n",
            "[LightGBM] [Info] Start training from score -0.000484\n"
          ]
        },
        {
          "output_type": "stream",
          "name": "stderr",
          "text": [
            "[I 2025-05-17 14:17:32,848] Trial 18 finished with value: 0.9536549855126782 and parameters: {'n_estimators': 200, 'max_depth': 20, 'learning_rate': 0.1, 'num_leaves': 50, 'subsample': 0.8}. Best is trial 9 with value: 0.9537175792507204.\n"
          ]
        },
        {
          "output_type": "stream",
          "name": "stdout",
          "text": [
            "[LightGBM] [Info] Number of positive: 144699, number of negative: 144769\n",
            "[LightGBM] [Info] Auto-choosing col-wise multi-threading, the overhead of testing was 0.735441 seconds.\n",
            "You can set `force_col_wise=true` to remove the overhead.\n",
            "[LightGBM] [Info] Total Bins 55279\n",
            "[LightGBM] [Info] Number of data points in the train set: 289468, number of used features: 495\n",
            "[LightGBM] [Info] [binary:BoostFromScore]: pavg=0.499879 -> initscore=-0.000484\n",
            "[LightGBM] [Info] Start training from score -0.000484\n"
          ]
        },
        {
          "output_type": "stream",
          "name": "stderr",
          "text": [
            "[I 2025-05-17 14:17:55,380] Trial 19 finished with value: 0.9535832144452611 and parameters: {'n_estimators': 200, 'max_depth': -1, 'learning_rate': 0.1, 'num_leaves': 50, 'subsample': 1.0}. Best is trial 9 with value: 0.9537175792507204.\n"
          ]
        },
        {
          "output_type": "stream",
          "name": "stdout",
          "text": [
            "[LightGBM] [Info] Number of positive: 144699, number of negative: 144769\n",
            "[LightGBM] [Info] Auto-choosing row-wise multi-threading, the overhead of testing was 0.207214 seconds.\n",
            "You can set `force_row_wise=true` to remove the overhead.\n",
            "And if memory is not enough, you can set `force_col_wise=true`.\n",
            "[LightGBM] [Info] Total Bins 55279\n",
            "[LightGBM] [Info] Number of data points in the train set: 289468, number of used features: 495\n",
            "[LightGBM] [Info] [binary:BoostFromScore]: pavg=0.499879 -> initscore=-0.000484\n",
            "[LightGBM] [Info] Start training from score -0.000484\n"
          ]
        },
        {
          "output_type": "stream",
          "name": "stderr",
          "text": [
            "[I 2025-05-17 14:18:23,724] Trial 20 finished with value: 0.9412556119389889 and parameters: {'n_estimators': 200, 'max_depth': 10, 'learning_rate': 0.01, 'num_leaves': 50, 'subsample': 1.0}. Best is trial 9 with value: 0.9537175792507204.\n"
          ]
        },
        {
          "output_type": "stream",
          "name": "stdout",
          "text": [
            "[LightGBM] [Info] Number of positive: 144699, number of negative: 144769\n",
            "[LightGBM] [Info] Auto-choosing col-wise multi-threading, the overhead of testing was 0.693772 seconds.\n",
            "You can set `force_col_wise=true` to remove the overhead.\n",
            "[LightGBM] [Info] Total Bins 55279\n",
            "[LightGBM] [Info] Number of data points in the train set: 289468, number of used features: 495\n",
            "[LightGBM] [Info] [binary:BoostFromScore]: pavg=0.499879 -> initscore=-0.000484\n",
            "[LightGBM] [Info] Start training from score -0.000484\n"
          ]
        },
        {
          "output_type": "stream",
          "name": "stderr",
          "text": [
            "[I 2025-05-17 14:18:45,870] Trial 21 finished with value: 0.9537175792507204 and parameters: {'n_estimators': 200, 'max_depth': 10, 'learning_rate': 0.1, 'num_leaves': 50, 'subsample': 1.0}. Best is trial 9 with value: 0.9537175792507204.\n"
          ]
        },
        {
          "output_type": "stream",
          "name": "stdout",
          "text": [
            "[LightGBM] [Info] Number of positive: 144699, number of negative: 144769\n",
            "[LightGBM] [Info] Auto-choosing col-wise multi-threading, the overhead of testing was 0.703019 seconds.\n",
            "You can set `force_col_wise=true` to remove the overhead.\n",
            "[LightGBM] [Info] Total Bins 55279\n",
            "[LightGBM] [Info] Number of data points in the train set: 289468, number of used features: 495\n",
            "[LightGBM] [Info] [binary:BoostFromScore]: pavg=0.499879 -> initscore=-0.000484\n",
            "[LightGBM] [Info] Start training from score -0.000484\n"
          ]
        },
        {
          "output_type": "stream",
          "name": "stderr",
          "text": [
            "[I 2025-05-17 14:19:09,420] Trial 22 finished with value: 0.9537175792507204 and parameters: {'n_estimators': 200, 'max_depth': 10, 'learning_rate': 0.1, 'num_leaves': 50, 'subsample': 1.0}. Best is trial 9 with value: 0.9537175792507204.\n"
          ]
        },
        {
          "output_type": "stream",
          "name": "stdout",
          "text": [
            "[LightGBM] [Info] Number of positive: 144699, number of negative: 144769\n",
            "[LightGBM] [Info] Auto-choosing col-wise multi-threading, the overhead of testing was 0.707325 seconds.\n",
            "You can set `force_col_wise=true` to remove the overhead.\n",
            "[LightGBM] [Info] Total Bins 55279\n",
            "[LightGBM] [Info] Number of data points in the train set: 289468, number of used features: 495\n",
            "[LightGBM] [Info] [binary:BoostFromScore]: pavg=0.499879 -> initscore=-0.000484\n",
            "[LightGBM] [Info] Start training from score -0.000484\n"
          ]
        },
        {
          "output_type": "stream",
          "name": "stderr",
          "text": [
            "[I 2025-05-17 14:19:31,245] Trial 23 finished with value: 0.9537175792507204 and parameters: {'n_estimators': 200, 'max_depth': 10, 'learning_rate': 0.1, 'num_leaves': 50, 'subsample': 1.0}. Best is trial 9 with value: 0.9537175792507204.\n"
          ]
        },
        {
          "output_type": "stream",
          "name": "stdout",
          "text": [
            "[LightGBM] [Info] Number of positive: 144699, number of negative: 144769\n",
            "[LightGBM] [Info] Auto-choosing col-wise multi-threading, the overhead of testing was 0.735381 seconds.\n",
            "You can set `force_col_wise=true` to remove the overhead.\n",
            "[LightGBM] [Info] Total Bins 55279\n",
            "[LightGBM] [Info] Number of data points in the train set: 289468, number of used features: 495\n",
            "[LightGBM] [Info] [binary:BoostFromScore]: pavg=0.499879 -> initscore=-0.000484\n",
            "[LightGBM] [Info] Start training from score -0.000484\n"
          ]
        },
        {
          "output_type": "stream",
          "name": "stderr",
          "text": [
            "[I 2025-05-17 14:19:53,192] Trial 24 finished with value: 0.9537175792507204 and parameters: {'n_estimators': 200, 'max_depth': 10, 'learning_rate': 0.1, 'num_leaves': 50, 'subsample': 1.0}. Best is trial 9 with value: 0.9537175792507204.\n"
          ]
        },
        {
          "output_type": "stream",
          "name": "stdout",
          "text": [
            "[LightGBM] [Info] Number of positive: 144699, number of negative: 144769\n",
            "[LightGBM] [Info] Auto-choosing row-wise multi-threading, the overhead of testing was 0.252968 seconds.\n",
            "You can set `force_row_wise=true` to remove the overhead.\n",
            "And if memory is not enough, you can set `force_col_wise=true`.\n",
            "[LightGBM] [Info] Total Bins 55279\n",
            "[LightGBM] [Info] Number of data points in the train set: 289468, number of used features: 495\n",
            "[LightGBM] [Info] [binary:BoostFromScore]: pavg=0.499879 -> initscore=-0.000484\n",
            "[LightGBM] [Info] Start training from score -0.000484\n"
          ]
        },
        {
          "output_type": "stream",
          "name": "stderr",
          "text": [
            "[I 2025-05-17 14:20:20,556] Trial 25 finished with value: 0.9536263609654934 and parameters: {'n_estimators': 200, 'max_depth': 10, 'learning_rate': 0.1, 'num_leaves': 100, 'subsample': 1.0}. Best is trial 9 with value: 0.9537175792507204.\n"
          ]
        },
        {
          "output_type": "stream",
          "name": "stdout",
          "text": [
            "[LightGBM] [Info] Number of positive: 144699, number of negative: 144769\n",
            "[LightGBM] [Info] Auto-choosing col-wise multi-threading, the overhead of testing was 0.714653 seconds.\n",
            "You can set `force_col_wise=true` to remove the overhead.\n",
            "[LightGBM] [Info] Total Bins 55279\n",
            "[LightGBM] [Info] Number of data points in the train set: 289468, number of used features: 495\n",
            "[LightGBM] [Info] [binary:BoostFromScore]: pavg=0.499879 -> initscore=-0.000484\n",
            "[LightGBM] [Info] Start training from score -0.000484\n"
          ]
        },
        {
          "output_type": "stream",
          "name": "stderr",
          "text": [
            "[I 2025-05-17 14:20:42,793] Trial 26 finished with value: 0.9537175792507204 and parameters: {'n_estimators': 200, 'max_depth': 10, 'learning_rate': 0.1, 'num_leaves': 50, 'subsample': 0.8}. Best is trial 9 with value: 0.9537175792507204.\n"
          ]
        },
        {
          "output_type": "stream",
          "name": "stdout",
          "text": [
            "[LightGBM] [Info] Number of positive: 144699, number of negative: 144769\n",
            "[LightGBM] [Info] Auto-choosing col-wise multi-threading, the overhead of testing was 0.714816 seconds.\n",
            "You can set `force_col_wise=true` to remove the overhead.\n",
            "[LightGBM] [Info] Total Bins 55279\n",
            "[LightGBM] [Info] Number of data points in the train set: 289468, number of used features: 495\n",
            "[LightGBM] [Info] [binary:BoostFromScore]: pavg=0.499879 -> initscore=-0.000484\n",
            "[LightGBM] [Info] Start training from score -0.000484\n"
          ]
        },
        {
          "output_type": "stream",
          "name": "stderr",
          "text": [
            "[I 2025-05-17 14:21:06,085] Trial 27 finished with value: 0.9537175792507204 and parameters: {'n_estimators': 200, 'max_depth': 10, 'learning_rate': 0.1, 'num_leaves': 50, 'subsample': 1.0}. Best is trial 9 with value: 0.9537175792507204.\n"
          ]
        },
        {
          "output_type": "stream",
          "name": "stdout",
          "text": [
            "[LightGBM] [Info] Number of positive: 144699, number of negative: 144769\n",
            "[LightGBM] [Info] Auto-choosing col-wise multi-threading, the overhead of testing was 0.723374 seconds.\n",
            "You can set `force_col_wise=true` to remove the overhead.\n",
            "[LightGBM] [Info] Total Bins 55279\n",
            "[LightGBM] [Info] Number of data points in the train set: 289468, number of used features: 495\n",
            "[LightGBM] [Info] [binary:BoostFromScore]: pavg=0.499879 -> initscore=-0.000484\n",
            "[LightGBM] [Info] Start training from score -0.000484\n"
          ]
        },
        {
          "output_type": "stream",
          "name": "stderr",
          "text": [
            "[I 2025-05-17 14:21:35,022] Trial 28 finished with value: 0.9404788051833955 and parameters: {'n_estimators': 200, 'max_depth': -1, 'learning_rate': 0.01, 'num_leaves': 50, 'subsample': 1.0}. Best is trial 9 with value: 0.9537175792507204.\n"
          ]
        },
        {
          "output_type": "stream",
          "name": "stdout",
          "text": [
            "[LightGBM] [Info] Number of positive: 144699, number of negative: 144769\n",
            "[LightGBM] [Info] Auto-choosing col-wise multi-threading, the overhead of testing was 0.726166 seconds.\n",
            "You can set `force_col_wise=true` to remove the overhead.\n",
            "[LightGBM] [Info] Total Bins 55279\n",
            "[LightGBM] [Info] Number of data points in the train set: 289468, number of used features: 495\n",
            "[LightGBM] [Info] [binary:BoostFromScore]: pavg=0.499879 -> initscore=-0.000484\n",
            "[LightGBM] [Info] Start training from score -0.000484\n"
          ]
        },
        {
          "output_type": "stream",
          "name": "stderr",
          "text": [
            "[I 2025-05-17 14:22:03,476] Trial 29 finished with value: 0.9536360886661194 and parameters: {'n_estimators': 200, 'max_depth': 20, 'learning_rate': 0.1, 'num_leaves': 100, 'subsample': 1.0}. Best is trial 9 with value: 0.9537175792507204.\n"
          ]
        },
        {
          "output_type": "stream",
          "name": "stdout",
          "text": [
            "✅ Optuna best params for LGBM: {'n_estimators': 200, 'max_depth': 10, 'learning_rate': 0.1, 'num_leaves': 50, 'subsample': 1.0}\n",
            "[LightGBM] [Info] Number of positive: 144699, number of negative: 144769\n",
            "[LightGBM] [Info] Auto-choosing row-wise multi-threading, the overhead of testing was 0.246186 seconds.\n",
            "You can set `force_row_wise=true` to remove the overhead.\n",
            "And if memory is not enough, you can set `force_col_wise=true`.\n",
            "[LightGBM] [Info] Total Bins 55279\n",
            "[LightGBM] [Info] Number of data points in the train set: 289468, number of used features: 495\n",
            "[LightGBM] [Info] [binary:BoostFromScore]: pavg=0.499879 -> initscore=-0.000484\n",
            "[LightGBM] [Info] Start training from score -0.000484\n",
            "💾 Saved LGBM model to /content/drive/My Drive/Turing/ML Capstone project/trained_models/lgbm_model_optuned.pkl\n"
          ]
        },
        {
          "output_type": "display_data",
          "data": {
            "text/plain": [
              "<Figure size 400x300 with 2 Axes>"
            ],
            "image/png": "[encoded data removed]"
          },
          "metadata": {}
        },
        {
          "output_type": "stream",
          "name": "stdout",
          "text": [
            "\n"
          ]
        },
        {
          "output_type": "display_data",
          "data": {
            "text/plain": [
              "<Figure size 500x400 with 1 Axes>"
            ],
            "image/png": "[encoded data removed]"
          },
          "metadata": {}
        },
        {
          "output_type": "stream",
          "name": "stdout",
          "text": [
            "\n"
          ]
        },
        {
          "output_type": "display_data",
          "data": {
            "text/plain": [
              "<Figure size 500x400 with 1 Axes>"
            ],
            "image/png": "[encoded data removed]"
          },
          "metadata": {}
        },
        {
          "output_type": "stream",
          "name": "stdout",
          "text": [
            "\n"
          ]
        }
      ]
    },
    {
      "cell_type": "code",
      "source": [
        "import matplotlib.pyplot as plt\n",
        "from sklearn.ensemble import VotingClassifier\n",
        "from sklearn.metrics import accuracy_score, f1_score\n",
        "\n",
        "estimators = [(name, model) for name, model in best_models.items()]\n",
        "\n",
        "voting_clf = VotingClassifier(estimators=estimators, voting='soft')\n",
        "\n",
        "voting_clf.fit(X_train, y_train)\n",
        "\n",
        "file_name = f'voting_ensemble.pkl'\n",
        "full_path = os.path.join(model_save_path, file_name)\n",
        "with open(full_path, 'wb') as f:\n",
        "  pickle.dump(voting_clf, f)\n",
        "print(f'Saved voting_ensemble model to {full_path}')\n",
        "\n",
        "\n",
        "y_pred_voting = voting_clf.predict(X_test)\n",
        "\n",
        "voting_accuracy = accuracy_score(y_test, y_pred_voting)\n",
        "voting_f1 = f1_score(y_test, y_pred_voting, pos_label=1)\n",
        "\n",
        "print(\"\\nVoting Classifier Performance:\")\n",
        "print(f\"Accuracy: {voting_accuracy:.4f}\")\n",
        "print(f\"F1 Score (Positive Class): {voting_f1:.4f}\")\n",
        "\n",
        "print(\"\\nClassification Report for Voting Classifier:\")\n",
        "print(classification_report(y_test, y_pred_voting))\n",
        "\n",
        "print(\"\\nConfusion Matrix for Voting Classifier:\")\n",
        "cm_voting = confusion_matrix(y_test, y_pred_voting)\n",
        "sns.heatmap(cm_voting, annot=True, fmt='d', cmap='Blues')\n",
        "plt.title('Voting Classifier - Confusion Matrix')\n",
        "plt.xlabel('Predicted')\n",
        "plt.ylabel('Actual')\n",
        "plt.show()\n"
      ],
      "metadata": {
        "id": "seCrQq7DfNva",
        "outputId": "667a0ddd-bf62-4e94-d1e1-559f2bc9d86a",
        "colab": {
          "base_uri": "https://localhost:8080/",
          "height": 906
        }
      },
      "id": "seCrQq7DfNva",
      "execution_count": 179,
      "outputs": [
        {
          "output_type": "stream",
          "name": "stdout",
          "text": [
            "[LightGBM] [Info] Number of positive: 180874, number of negative: 180962\n",
            "[LightGBM] [Info] Auto-choosing col-wise multi-threading, the overhead of testing was 1.903250 seconds.\n",
            "You can set `force_col_wise=true` to remove the overhead.\n",
            "[LightGBM] [Info] Total Bins 55267\n",
            "[LightGBM] [Info] Number of data points in the train set: 361836, number of used features: 496\n",
            "[LightGBM] [Info] [binary:BoostFromScore]: pavg=0.499878 -> initscore=-0.000486\n",
            "[LightGBM] [Info] Start training from score -0.000486\n",
            "Saved voting_ensemble model to /content/drive/My Drive/Turing/ML Capstone project/trained_models/voting_ensemble.pkl\n",
            "\n",
            "Voting Classifier Performance:\n",
            "Accuracy: 0.9563\n",
            "F1 Score (Positive Class): 0.9545\n",
            "\n",
            "Classification Report for Voting Classifier:\n",
            "              precision    recall  f1-score   support\n",
            "\n",
            "           0       0.92      1.00      0.96     45186\n",
            "           1       1.00      0.91      0.95     45274\n",
            "\n",
            "    accuracy                           0.96     90460\n",
            "   macro avg       0.96      0.96      0.96     90460\n",
            "weighted avg       0.96      0.96      0.96     90460\n",
            "\n",
            "\n",
            "Confusion Matrix for Voting Classifier:\n"
          ]
        },
        {
          "output_type": "display_data",
          "data": {
            "text/plain": [
              "<Figure size 640x480 with 2 Axes>"
            ],
            "image/png": "[encoded data removed]"
          },
          "metadata": {}
        }
      ]
    },
    {
      "cell_type": "code",
      "source": [
        "from google.colab import files\n",
        "files.upload()\n"
      ],
      "metadata": {
        "id": "w0W7FbvmrXTS",
        "outputId": "e74fe634-f3f3-4da1-eca1-95858feec0be",
        "colab": {
          "base_uri": "https://localhost:8080/",
          "height": 90
        }
      },
      "id": "w0W7FbvmrXTS",
      "execution_count": 180,
      "outputs": [
        {
          "output_type": "display_data",
          "data": {
            "text/plain": [
              "<IPython.core.display.HTML object>"
            ],
            "text/html": [
              "\n",
              "     <input type=\"file\" id=\"files-e04e7d3b-da68-449a-826a-36c186262c61\" name=\"files[]\" multiple disabled\n",
              "        style=\"border:none\" />\n",
              "     <output id=\"result-e04e7d3b-da68-449a-826a-36c186262c61\">\n",
              "      Upload widget is only available when the cell has been executed in the\n",
              "      current browser session. Please rerun this cell to enable.\n",
              "      </output>\n",
              "      <script>// Copyright 2017 Google LLC\n",
              "//\n",
              "// Licensed under the Apache License, Version 2.0 (the \"License\");\n",
              "// you may not use this file except in compliance with the License.\n",
              "// You may obtain a copy of the License at\n",
              "//\n",
              "//      http://www.apache.org/licenses/LICENSE-2.0\n",
              "//\n",
              "// Unless required by applicable law or agreed to in writing, software\n",
              "// distributed under the License is distributed on an \"AS IS\" BASIS,\n",
              "// WITHOUT WARRANTIES OR CONDITIONS OF ANY KIND, either express or implied.\n",
              "// See the License for the specific language governing permissions and\n",
              "// limitations under the License.\n",
              "\n",
              "/**\n",
              " * @fileoverview Helpers for google.colab Python module.\n",
              " */\n",
              "(function(scope) {\n",
              "function span(text, styleAttributes = {}) {\n",
              "  const element = document.createElement('span');\n",
              "  element.textContent = text;\n",
              "  for (const key of Object.keys(styleAttributes)) {\n",
              "    element.style[key] = styleAttributes[key];\n",
              "  }\n",
              "  return element;\n",
              "}\n",
              "\n",
              "// Max number of bytes which will be uploaded at a time.\n",
              "const MAX_PAYLOAD_SIZE = 100 * 1024;\n",
              "\n",
              "function _uploadFiles(inputId, outputId) {\n",
              "  const steps = uploadFilesStep(inputId, outputId);\n",
              "  const outputElement = document.getElementById(outputId);\n",
              "  // Cache steps on the outputElement to make it available for the next call\n",
              "  // to uploadFilesContinue from Python.\n",
              "  outputElement.steps = steps;\n",
              "\n",
              "  return _uploadFilesContinue(outputId);\n",
              "}\n",
              "\n",
              "// This is roughly an async generator (not supported in the browser yet),\n",
              "// where there are multiple asynchronous steps and the Python side is going\n",
              "// to poll for completion of each step.\n",
              "// This uses a Promise to block the python side on completion of each step,\n",
              "// then passes the result of the previous step as the input to the next step.\n",
              "function _uploadFilesContinue(outputId) {\n",
              "  const outputElement = document.getElementById(outputId);\n",
              "  const steps = outputElement.steps;\n",
              "\n",
              "  const next = steps.next(outputElement.lastPromiseValue);\n",
              "  return Promise.resolve(next.value.promise).then((value) => {\n",
              "    // Cache the last promise value to make it available to the next\n",
              "    // step of the generator.\n",
              "    outputElement.lastPromiseValue = value;\n",
              "    return next.value.response;\n",
              "  });\n",
              "}\n",
              "\n",
              "/**\n",
              " * Generator function which is called between each async step of the upload\n",
              " * process.\n",
              " * @param {string} inputId Element ID of the input file picker element.\n",
              " * @param {string} outputId Element ID of the output display.\n",
              " * @return {!Iterable<!Object>} Iterable of next steps.\n",
              " */\n",
              "function* uploadFilesStep(inputId, outputId) {\n",
              "  const inputElement = document.getElementById(inputId);\n",
              "  inputElement.disabled = false;\n",
              "\n",
              "  const outputElement = document.getElementById(outputId);\n",
              "  outputElement.innerHTML = '';\n",
              "\n",
              "  const pickedPromise = new Promise((resolve) => {\n",
              "    inputElement.addEventListener('change', (e) => {\n",
              "      resolve(e.target.files);\n",
              "    });\n",
              "  });\n",
              "\n",
              "  const cancel = document.createElement('button');\n",
              "  inputElement.parentElement.appendChild(cancel);\n",
              "  cancel.textContent = 'Cancel upload';\n",
              "  const cancelPromise = new Promise((resolve) => {\n",
              "    cancel.onclick = () => {\n",
              "      resolve(null);\n",
              "    };\n",
              "  });\n",
              "\n",
              "  // Wait for the user to pick the files.\n",
              "  const files = yield {\n",
              "    promise: Promise.race([pickedPromise, cancelPromise]),\n",
              "    response: {\n",
              "      action: 'starting',\n",
              "    }\n",
              "  };\n",
              "\n",
              "  cancel.remove();\n",
              "\n",
              "  // Disable the input element since further picks are not allowed.\n",
              "  inputElement.disabled = true;\n",
              "\n",
              "  if (!files) {\n",
              "    return {\n",
              "      response: {\n",
              "        action: 'complete',\n",
              "      }\n",
              "    };\n",
              "  }\n",
              "\n",
              "  for (const file of files) {\n",
              "    const li = document.createElement('li');\n",
              "    li.append(span(file.name, {fontWeight: 'bold'}));\n",
              "    li.append(span(\n",
              "        `(${file.type || 'n/a'}) - ${file.size} bytes, ` +\n",
              "        `last modified: ${\n",
              "            file.lastModifiedDate ? file.lastModifiedDate.toLocaleDateString() :\n",
              "                                    'n/a'} - `));\n",
              "    const percent = span('0% done');\n",
              "    li.appendChild(percent);\n",
              "\n",
              "    outputElement.appendChild(li);\n",
              "\n",
              "    const fileDataPromise = new Promise((resolve) => {\n",
              "      const reader = new FileReader();\n",
              "      reader.onload = (e) => {\n",
              "        resolve(e.target.result);\n",
              "      };\n",
              "      reader.readAsArrayBuffer(file);\n",
              "    });\n",
              "    // Wait for the data to be ready.\n",
              "    let fileData = yield {\n",
              "      promise: fileDataPromise,\n",
              "      response: {\n",
              "        action: 'continue',\n",
              "      }\n",
              "    };\n",
              "\n",
              "    // Use a chunked sending to avoid message size limits. See b/62115660.\n",
              "    let position = 0;\n",
              "    do {\n",
              "      const length = Math.min(fileData.byteLength - position, MAX_PAYLOAD_SIZE);\n",
              "      const chunk = new Uint8Array(fileData, position, length);\n",
              "      position += length;\n",
              "\n",
              "      const base64 = btoa(String.fromCharCode.apply(null, chunk));\n",
              "      yield {\n",
              "        response: {\n",
              "          action: 'append',\n",
              "          file: file.name,\n",
              "          data: base64,\n",
              "        },\n",
              "      };\n",
              "\n",
              "      let percentDone = fileData.byteLength === 0 ?\n",
              "          100 :\n",
              "          Math.round((position / fileData.byteLength) * 100);\n",
              "      percent.textContent = `${percentDone}% done`;\n",
              "\n",
              "    } while (position < fileData.byteLength);\n",
              "  }\n",
              "\n",
              "  // All done.\n",
              "  yield {\n",
              "    response: {\n",
              "      action: 'complete',\n",
              "    }\n",
              "  };\n",
              "}\n",
              "\n",
              "scope.google = scope.google || {};\n",
              "scope.google.colab = scope.google.colab || {};\n",
              "scope.google.colab._files = {\n",
              "  _uploadFiles,\n",
              "  _uploadFilesContinue,\n",
              "};\n",
              "})(self);\n",
              "</script> "
            ]
          },
          "metadata": {}
        },
        {
          "output_type": "stream",
          "name": "stdout",
          "text": [
            "Saving kaggle.json to kaggle.json\n"
          ]
        },
        {
          "output_type": "execute_result",
          "data": {
            "text/plain": [
              "{'kaggle.json': b'{\"username\":\"kataherndi\",\"key\":\"fbcc30c1c4e33978061e301299c38a95\"}'}"
            ]
          },
          "metadata": {},
          "execution_count": 180
        }
      ]
    },
    {
      "cell_type": "code",
      "source": [
        "!mkdir -p ~/.kaggle\n",
        "!mv kaggle.json ~/.kaggle/\n",
        "!chmod 600 ~/.kaggle/kaggle.json\n"
      ],
      "metadata": {
        "id": "9ld2cvDsrboO",
        "outputId": "c270df29-6651-4ea8-dedf-d95de6a231a7",
        "colab": {
          "base_uri": "https://localhost:8080/"
        }
      },
      "id": "9ld2cvDsrboO",
      "execution_count": 183,
      "outputs": [
        {
          "output_type": "stream",
          "name": "stdout",
          "text": [
            "mv: cannot stat 'kaggle.json': No such file or directory\n"
          ]
        }
      ]
    },
    {
      "cell_type": "code",
      "source": [
        "test_id = testing_data['SK_ID_CURR']"
      ],
      "metadata": {
        "id": "BLzdaItgMHhK"
      },
      "id": "BLzdaItgMHhK",
      "execution_count": 184,
      "outputs": []
    },
    {
      "cell_type": "code",
      "source": [
        "testing_data.columns"
      ],
      "metadata": {
        "id": "GSuHVcEQO4P-",
        "outputId": "acf4fe93-13e3-4e57-ccdb-ed1aaa7e407c",
        "colab": {
          "base_uri": "https://localhost:8080/"
        }
      },
      "id": "GSuHVcEQO4P-",
      "execution_count": 185,
      "outputs": [
        {
          "output_type": "execute_result",
          "data": {
            "text/plain": [
              "Index(['AMT_REQ_CREDIT_BUREAU_HOUR', 'AMT_REQ_CREDIT_BUREAU_DAY',\n",
              "       'AMT_REQ_CREDIT_BUREAU_WEEK', 'AMT_REQ_CREDIT_BUREAU_MON',\n",
              "       'AMT_REQ_CREDIT_BUREAU_QRT', 'AMT_REQ_CREDIT_BUREAU_YEAR',\n",
              "       'OBS_30_CNT_SOCIAL_CIRCLE', 'DEF_30_CNT_SOCIAL_CIRCLE',\n",
              "       'OBS_60_CNT_SOCIAL_CIRCLE', 'DEF_60_CNT_SOCIAL_CIRCLE',\n",
              "       ...\n",
              "       'NAME_PAYMENT_TYPE_Non-cashfromyouraccount_was_missing',\n",
              "       'NAME_CLIENT_TYPE_Refreshed_was_missing',\n",
              "       'NAME_CLIENT_TYPE_Repeater_was_missing',\n",
              "       'NAME_PORTFOLIO_Cars_was_missing', 'NAME_PORTFOLIO_Cash_was_missing',\n",
              "       'NAME_PORTFOLIO_POS_was_missing',\n",
              "       'NAME_PRODUCT_TYPE_x-sell_was_missing',\n",
              "       'NAME_YIELD_GROUP_low_action_was_missing',\n",
              "       'NAME_YIELD_GROUP_low_normal_was_missing',\n",
              "       'NAME_YIELD_GROUP_middle_was_missing'],\n",
              "      dtype='object', length=510)"
            ]
          },
          "metadata": {},
          "execution_count": 185
        }
      ]
    },
    {
      "cell_type": "code",
      "source": [
        "test_records = testing_data.loc[testing_data['SK_ID_CURR'].isin(test_id)].drop(columns = ['SK_ID_CURR'])"
      ],
      "metadata": {
        "id": "6GahUGcIOhcn"
      },
      "id": "6GahUGcIOhcn",
      "execution_count": 186,
      "outputs": []
    },
    {
      "cell_type": "code",
      "source": [
        "test_results = voting_clf.predict(testing_data.drop(columns=['SK_ID_CURR']))"
      ],
      "metadata": {
        "id": "rPsSzwhDMPr4"
      },
      "id": "rPsSzwhDMPr4",
      "execution_count": 187,
      "outputs": []
    },
    {
      "cell_type": "code",
      "source": [
        "test_frame = pd.DataFrame({'SK_ID_CURR': test_id, 'TARGET': test_results})"
      ],
      "metadata": {
        "id": "ZDQkjxz0LyKS"
      },
      "id": "ZDQkjxz0LyKS",
      "execution_count": 188,
      "outputs": []
    },
    {
      "cell_type": "code",
      "source": [
        "test_frame.to_csv('submission.csv', index=False)"
      ],
      "metadata": {
        "id": "Nn_k2qQwpYKu"
      },
      "id": "Nn_k2qQwpYKu",
      "execution_count": 190,
      "outputs": []
    },
    {
      "cell_type": "code",
      "source": [
        "!kaggle competitions submit -c home-credit-default-risk -f submission.csv -m \"submission\""
      ],
      "metadata": {
        "id": "_rB9Y0LxnDTV",
        "outputId": "6b7b684b-fcaf-4378-f064-eefd3973f7ee",
        "colab": {
          "base_uri": "https://localhost:8080/"
        }
      },
      "id": "_rB9Y0LxnDTV",
      "execution_count": 191,
      "outputs": [
        {
          "output_type": "stream",
          "name": "stdout",
          "text": [
            "\r  0% 0.00/428k [00:00<?, ?B/s]\r100% 428k/428k [00:00<00:00, 2.39MB/s]\n",
            "Successfully submitted to Home Credit Default Risk"
          ]
        }
      ]
    },
    {
      "cell_type": "code",
      "source": [],
      "metadata": {
        "id": "bWJDS7bzpWeL"
      },
      "id": "bWJDS7bzpWeL",
      "execution_count": null,
      "outputs": []
    }
  ],
  "metadata": {
    "language_info": {
      "name": "python"
    },
    "colab": {
      "provenance": [],
      "machine_shape": "hm",
      "include_colab_link": true
    },
    "kernelspec": {
      "name": "python3",
      "display_name": "Python 3"
    }
  },
  "nbformat": 4,
  "nbformat_minor": 5
}